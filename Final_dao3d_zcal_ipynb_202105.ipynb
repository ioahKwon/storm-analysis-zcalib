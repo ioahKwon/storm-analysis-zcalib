{
  "nbformat": 4,
  "nbformat_minor": 0,
  "metadata": {
    "kernelspec": {
      "display_name": "Python 3",
      "language": "python",
      "name": "python3"
    },
    "language_info": {
      "codemirror_mode": {
        "name": "ipython",
        "version": 3
      },
      "file_extension": ".py",
      "mimetype": "text/x-python",
      "name": "python",
      "nbconvert_exporter": "python",
      "pygments_lexer": "ipython3",
      "version": "3.6.9"
    },
    "colab": {
      "name": "Final : dao3d_zcal.ipynb_202105",
      "provenance": [],
      "collapsed_sections": [
        "gDs5HYDIZoTT"
      ],
      "toc_visible": true,
      "include_colab_link": true
    }
  },
  "cells": [
    {
      "cell_type": "markdown",
      "metadata": {
        "id": "view-in-github",
        "colab_type": "text"
      },
      "source": [
        "<a href=\"https://colab.research.google.com/github/ioahKwon/storm-analysis-zcalib/blob/main/Final_dao3d_zcal_ipynb_202105.ipynb\" target=\"_parent\"><img src=\"https://colab.research.google.com/assets/colab-badge.svg\" alt=\"Open In Colab\"/></a>"
      ]
    },
    {
      "cell_type": "markdown",
      "metadata": {
        "id": "5qoW4QbcgjYb"
      },
      "source": [
        "# ◈ **This ipynb file was made by IOAH, SNU GSCST.** ◈\n",
        "\n",
        "Version 1.0.0 (2021. 05. 06.)"
      ]
    },
    {
      "cell_type": "markdown",
      "metadata": {
        "id": "GSRTv9bRdxgx"
      },
      "source": [
        "### Z Calibration Curves for 3D-DAOSTORM (and sCMOS).\n",
        "\n",
        "In this example we are trying to determine the coefficients $w_o,c,d,A,B,C,D$ in this equation:\n",
        "\n",
        "\\begin{equation*}\n",
        "W_{x,y} = w_o \\sqrt{1 + \\left(\\frac{z-c}{d}\\right)^2 + A\\left(\\frac{z-c}{d}\\right)^3 + B\\left(\\frac{z-c}{d}\\right)^4 + C\\left(\\frac{z-c}{d}\\right)^5 + D\\left(\\frac{z-c}{d}\\right)^6}\n",
        "\\end{equation*}\n",
        "\n",
        "This is a modified form of a typical microscope defocusing curve. $W_x$, $W_y$ are the widths of the localization as measured by 3D-DAOSTORM and $z$ is the localization $z$ offset in $um$.\n",
        "\n",
        "See also [Huang et al, Science, 2008](http://dx.doi.org/10.1126/science.1153529).\n"
      ]
    },
    {
      "cell_type": "markdown",
      "metadata": {
        "id": "XfK4fmpcdxgy"
      },
      "source": [
        "## **1) Calibration : Configuration**\n"
      ]
    },
    {
      "cell_type": "markdown",
      "metadata": {
        "id": "8RBg8iiDhEeR"
      },
      "source": [
        "### ① Setting 1 : Getting Data and Storm Analysis from google drive & github."
      ]
    },
    {
      "cell_type": "code",
      "metadata": {
        "colab": {
          "base_uri": "https://localhost:8080/"
        },
        "id": "1PqjCijoYJos",
        "outputId": "ff26b148-5ad7-4b4c-b21d-adc64198cedc"
      },
      "source": [
        "# FIXME: This approach is very brittle. There would seem to be several\n",
        "#        solutions, none of which I was able to figure out how to actually\n",
        "#        implement.\n",
        "#\n",
        "#        1. Query for the name and directory of the installed .egg file.\n",
        "#        2. Don't install project, just add it's location to Python's\n",
        "#           module search path.\n",
        "#\n",
        "import sys\n",
        "\n",
        "# Test to see if we need to install storm-analysis or if we already did this.\n",
        "try:\n",
        "  import storm_analysis\n",
        "  \n",
        "except ModuleNotFoundError:\n",
        "\n",
        "  # Install SCONS and FFTW3 C library.\n",
        "  !apt install scons\n",
        "  !apt install libfftw3-dev\n",
        "\n",
        "  # Get latest version of storm-analysis.\n",
        "  # original : !git clone https://github.com/ZhuangLab/storm-analysis.git\n",
        "\n",
        "  # GIT Hub : https://github.com/ioahKwon/\n",
        "  # !git clone https://github.com/ioahKwon/storm-analysis-IOAH.git # IOAH Version (2021.05.12.)\n",
        "  !git clone https://github.com/KimLab-SNU/storm-analysis-kimlab.git # IOAH Version (last updated: 2021. 05. 12.)\n",
        "\n",
        "  # Change to directory and compile.\n",
        "  %cd storm-analysis-kimlab\n",
        "  !scons\n",
        "\n",
        "  # Install storm-analysis project.\n",
        "  !{sys.executable} setup.py install\n",
        "  \n",
        "  # Manually add the installed storm-analysis project to the path.\n",
        "  sys.path.append('/usr/local/lib/python3.6/dist-packages/storm_analysis-2.1-py3.6.egg')\n",
        "\n",
        "  # Install dependencies.\n",
        "  !{sys.executable} -m pip install tifffile\n",
        "\n",
        "  # Return to parent directory.\n",
        "  %cd ..\n",
        "\n",
        "# These are for diagnostics.\n",
        "!pwd\n",
        "!ls"
      ],
      "execution_count": 1,
      "outputs": [
        {
          "output_type": "stream",
          "text": [
            "/content\n",
            "sample_data  storm-analysis-kimlab\n"
          ],
          "name": "stdout"
        }
      ]
    },
    {
      "cell_type": "code",
      "metadata": {
        "colab": {
          "base_uri": "https://localhost:8080/"
        },
        "id": "PvEmzQ7lYLxt",
        "outputId": "b9513019-613c-4ddd-f008-e30138420196"
      },
      "source": [
        "# Warn user to restart kernel in order for storm-analysis to load properly. \n",
        "# The problem is that running Python might not be able to find the installed \n",
        "# library if isn't where we expected it to be.\n",
        "#\n",
        "try:\n",
        "  import storm_analysis\n",
        "  \n",
        "except ModuleNotFoundError:\n",
        "  print(\"Storm-analysis not found!\")\n",
        "  print(\"Restart Python kernel before continuing!\")\n",
        "  \n",
        "else:\n",
        "  for elt in sys.path:\n",
        "    if \"storm\" in elt:\n",
        "      print(elt)"
      ],
      "execution_count": 2,
      "outputs": [
        {
          "output_type": "stream",
          "text": [
            "/usr/local/lib/python3.7/dist-packages/storm_analysis-2.2-py3.7.egg\n"
          ],
          "name": "stdout"
        }
      ]
    },
    {
      "cell_type": "code",
      "metadata": {
        "colab": {
          "base_uri": "https://localhost:8080/"
        },
        "id": "dzwyUZEBYMN_",
        "outputId": "0d9e5574-59c7-4ace-e32a-25c6e3db5112"
      },
      "source": [
        "from google.colab import drive\n",
        "drive.mount('/content/gdrive')"
      ],
      "execution_count": 3,
      "outputs": [
        {
          "output_type": "stream",
          "text": [
            "Mounted at /content/gdrive\n"
          ],
          "name": "stdout"
        }
      ]
    },
    {
      "cell_type": "code",
      "metadata": {
        "colab": {
          "base_uri": "https://localhost:8080/"
        },
        "id": "0bWdlfcnbNzY",
        "outputId": "7035d67a-741f-4dee-d338-a632c567116b"
      },
      "source": [
        "# Data path\n",
        "data_path = \"/content/gdrive/My Drive/data/20210326\"\n",
        "\n",
        "# Load sample z_offsets.txt file. In this example every frame is valid.\n",
        "import numpy\n",
        "import os\n",
        "import tifffile as tiff\n",
        "\n",
        "# Z offsets profile\n",
        "######z_offsets = numpy.loadtxt(\"z_offsets.txt\")\n",
        "address_z_offsets = os.path.join(data_path, \"z_offsets.txt\")\n",
        "print(\"Location of z_offsets : \", address_z_offsets)\n",
        "z_offsets = numpy.loadtxt(address_z_offsets)\n",
        "######print(z_offsets)\n",
        "\n",
        "# Bead Locations\n",
        "address_bead_locs = os.path.join(data_path, \"bead_locs.txt\")\n",
        "print(\"Location of bead_locs : \", address_bead_locs)\n",
        "\n",
        "bead_locs = numpy.loadtxt(address_bead_locs)\n",
        "print(bead_locs)\n",
        "\n",
        "\n",
        "# Tiff file\n",
        "print(\"\\n\")\n",
        "tif_file = os.path.join(data_path,\"obSTORM_3DPSF_RedBead175nmDia_f200Cyl_z1_m1p8um_30nm_1p8um_1_combined.tif\" )\n",
        "print(\"tif_file : \",tif_file)\n",
        "image = tiff.imread(tif_file)\n",
        "print(image)"
      ],
      "execution_count": 4,
      "outputs": [
        {
          "output_type": "stream",
          "text": [
            "Location of z_offsets :  /content/gdrive/My Drive/data/20210326/z_offsets.txt\n",
            "Location of bead_locs :  /content/gdrive/My Drive/data/20210326/bead_locs.txt\n",
            "[[ 23.  24.]\n",
            " [ 68.  24.]\n",
            " [113.  24.]\n",
            " [158.  24.]]\n",
            "\n",
            "\n",
            "tif_file :  /content/gdrive/My Drive/data/20210326/obSTORM_3DPSF_RedBead175nmDia_f200Cyl_z1_m1p8um_30nm_1p8um_1_combined.tif\n",
            "[[[4367 4429 4336 ... 4464 4421 4399]\n",
            "  [4360 4332 4314 ... 4330 4379 4481]\n",
            "  [4307 4378 4313 ... 4364 4406 4370]\n",
            "  ...\n",
            "  [4247 4313 4285 ... 5148 5281 5463]\n",
            "  [4360 4302 4283 ... 5597 5083 5410]\n",
            "  [4237 4231 4233 ... 5614 5315 5148]]\n",
            "\n",
            " [[4307 4445 4365 ... 4512 4596 4596]\n",
            "  [4372 4283 4342 ... 4355 4391 4398]\n",
            "  [4370 4323 4265 ... 4393 4399 4348]\n",
            "  ...\n",
            "  [4194 4256 4333 ... 5228 5281 5023]\n",
            "  [4301 4286 4264 ... 5403 5545 5414]\n",
            "  [4299 4464 4237 ... 5241 5300 5194]]\n",
            "\n",
            " [[4344 4498 4237 ... 4403 4628 4448]\n",
            "  [4263 4242 4364 ... 4442 4382 4458]\n",
            "  [4423 4399 4204 ... 4457 4426 4463]\n",
            "  ...\n",
            "  [4303 4309 4291 ... 5386 5344 5376]\n",
            "  [4228 4297 4311 ... 5436 5470 5350]\n",
            "  [4313 4284 4392 ... 5759 5882 5330]]\n",
            "\n",
            " ...\n",
            "\n",
            " [[4576 4550 4748 ... 5764 5982 5802]\n",
            "  [4482 4684 4602 ... 5506 5797 5786]\n",
            "  [4524 4469 4483 ... 5573 6006 5783]\n",
            "  ...\n",
            "  [4331 4301 4207 ... 4286 4324 4288]\n",
            "  [4401 4353 4346 ... 4369 4316 4329]\n",
            "  [4326 4333 4333 ... 4273 4348 4293]]\n",
            "\n",
            " [[4745 4796 4621 ... 5581 5700 6128]\n",
            "  [4508 4434 4745 ... 5800 5854 5957]\n",
            "  [4644 4321 4600 ... 5620 5736 5871]\n",
            "  ...\n",
            "  [4258 4273 4329 ... 4243 4342 4317]\n",
            "  [4195 4357 4462 ... 4265 4255 4374]\n",
            "  [4302 4402 4317 ... 4286 4262 4318]]\n",
            "\n",
            " [[4626 4645 4563 ... 5880 5769 5960]\n",
            "  [4556 4537 4439 ... 5893 5776 5749]\n",
            "  [4703 4467 4542 ... 5513 6029 5743]\n",
            "  ...\n",
            "  [4364 4362 4367 ... 4299 4321 4413]\n",
            "  [4359 4298 4191 ... 4239 4199 4312]\n",
            "  [4374 4266 4359 ... 4345 4285 4276]]]\n"
          ],
          "name": "stdout"
        }
      ]
    },
    {
      "cell_type": "markdown",
      "metadata": {
        "id": "St3vYQ65dxg0"
      },
      "source": [
        "### ② Setting 2 : Parameter Settings."
      ]
    },
    {
      "cell_type": "markdown",
      "metadata": {
        "id": "NoerpluJdxg0"
      },
      "source": [
        "Set parameters for 3D-DAOSTORM analysis. Note the analysis is done using the `3d` PSF model, a Gaussian with independent widths in X/Y."
      ]
    },
    {
      "cell_type": "code",
      "metadata": {
        "colab": {
          "base_uri": "https://localhost:8080/"
        },
        "id": "lZWLxxH2dTxr",
        "outputId": "88118c98-053a-413e-a864-7e973076e7d2"
      },
      "source": [
        "import storm_analysis.sa_library.parameters as params\n",
        "\n",
        "# Load the parameters\n",
        "params = params.ParametersDAO()\n",
        "\n",
        "# Analysis parameters\n",
        "\n",
        "###########################\n",
        "###  Essential Parameter ##\n",
        "###########################\n",
        "pixel_size = 144.5                                                # CCD pixel size (in nm)\n",
        "max_z = 0.1\n",
        "min_z = -1.2\n",
        "z_step = 0.01\n",
        "###########################\n",
        "\n",
        "\n",
        "params.changeAttr(\"pixel_size\", pixel_size)                       # CCD pixel size (in nm)\n",
        "params.changeAttr(\"max_frame\", -1)                                # The frame to stop analysis on, -1 = analyze to the end of the film.\n",
        "params.changeAttr(\"start_frame\", -1)                              # The frame to start analysis on, -1 = start at the beginning of the film\n",
        "params.changeAttr(\"max_z\", max_z)                                   # Maximum z value for z fitting, specified in um. ( z_range )\n",
        "params.changeAttr(\"min_z\", min_z)                                  # Minimum z value for z fitting, specified in um. ( z_range )\n",
        "params.changeAttr('verbosity', 1)                                 # Frequency in frames at which to provide feedback. The default is every frame (verbosity = 1). This should be an integer >= 1.\n",
        "params.changeAttr('static_background_estimate', 0)                # If this is set, and set to a number greater than 0, then the analysis will estimate the background by using the average over this number of frames.\n",
        "                                                                    # If this is not set, or set to 0, the background is estimated separately for each frame.\n",
        "# Tracking parameters\n",
        "params.changeAttr(\"descriptor\", 1)                                # Tracking parameter, frame descriptor string :\n",
        "                                                                    # 0 - activation frame\n",
        "                                                                    # 1 - non-specific frame\n",
        "                                                                    # 2 - channel1 frame\n",
        "                                                                    # 3 - channel2 frame\n",
        "                                                                    # 4 - etc..\n",
        "\n",
        "params.changeAttr(\"radius\", 0.5)                                  # Radius for matching peaks from frame to frame. Localizations that are closer than\n",
        "                                                                    # this value (in pixels) in adjacent frames (ignoring activation frames) are assumed\n",
        "                                                                    # to come from the same emitter and are averaged together to create a (hopefully) \n",
        "                                                                    # more accurately localized emitter. If this is zero then no matching will be done\n",
        "                                                                    # if it is 0, don't do tracking.\n",
        "                                                                  # Maximum distance for an object to be in a track in pixels. \n",
        "\n",
        "# Drift Correction parameters\n",
        "params.changeAttr(\"d_scale\", 2)                                   # if your data is 256x256 pixels then the drift-correction will create 512x512 sub-STORM \n",
        "                                                                    # images (for d_scale = 2) and then attempt to correlate these images to each other to calculate the drift.\n",
        "                                                                    # 2 is usually a good choice.\n",
        "params.changeAttr(\"drift_correction\", 0)                          # Do drift correction, 0 ='No'\n",
        "params.changeAttr(\"z_correction\", 0)                              # Do z drift correction, 0 = 'No'\n",
        "params.changeAttr(\"frame_step\", 100)                              # Number of frames in each (drift correction) sub-STORM image # 500\n",
        "\n",
        "\n",
        "# Fitting parameters\n",
        "\n",
        "sigma = 1.5\n",
        "\n",
        "params.changeAttr(\"background_sigma\", 8.0)                        # Background filter sigma, this is the sigma of a 2D gaussian to convolve the data in order to estimate the background.\n",
        "\n",
        "params.changeAttr(\"fftw_estimate\", 0)                             # FFTW should estimate the best FFT plan instead of measuring which is best. This \n",
        "                                                                    # can help speed the analysis of short movies that are very large in XY. 0 = (default) \n",
        "                                                                    # FFTW will measure the best FFT plan. 1 = FFTW will estimate the best FFT plan.\n",
        "\n",
        "params.changeAttr(\"fit_error_model\", \"MLE\")                       # Specify which fitting error model to use. # Other Options : ALS(Anscombe Least Squares), LS(Least Squares), DWLS(Data Weighted Least Squares), FWLS(Fit Weighted Least Squares)\n",
        "params.changeAttr(\"find_max_radius\", 6,  node_type='int')         # To be a peak it must be the maximum value within this radius (in pixels).\n",
        "                                                                    # Using a large find max radius -> reduces peak splitting.\n",
        "params.changeAttr(\"iterations\", 20)                               # Maximum number of iterations for new peak finding.\n",
        "params.changeAttr(\"sigma\", sigma)                                  # This is the estimated sigma of the PSF in pixels.\n",
        "                                                                    # It is used in most of the analysis approaches as a measure of the peak to peak distance at which peak fits do not substantially effect each other.\n",
        "                                                                    # In most of the analysis approaches, if two peaks are closer than\n",
        "                                                                    #\tthis distance then the dimmer one will be discarded.\n",
        "params.changeAttr('sigma_range', [0.5*sigma, 5.0*sigma])         # A two element array that specifies the minimum and maximum sigma values to allow when fitting for the peak width. \n",
        "                                                                    # If this is not specified the default is [0.5 * sigma, 5.0 * sigma].\n",
        "\n",
        "\n",
        "params.changeAttr(\"threshold\", 6 )                                # Threshold for a maximum to considered a peak.\n",
        "                                                                    # This is the threshold for peak finding in units of signal to background. A\n",
        "                                                                    # value of 3 for example corresponds to only selecting peaks with an (estimated)\n",
        "                                                                    # signal to background ratio of 3.\n",
        "                                                                    # You probably want a value of at least 5.\n",
        "\n",
        "# Parameters that are common to 3D-DAOSTORM and sCMOS\n",
        "params.changeAttr(\"cutoff\", 2)                                    # Max allowed distance from the wx/wy versus Z curve, units unclear.\n",
        "params.changeAttr(\"do_zfit\", 0)                                   # Do z fitting (or not), only relevant for \"3d\" fitting (see \"model\" parameter).\n",
        "params.changeAttr(\"foreground_sigma\", 1.5)                        # Foreground filter sigma, this is the sigma of a 2D gaussian to convolve the data with\n",
        "                                                                    # prior to peak identification. When your data has a low SNR this can help for peak\n",
        "                                                                    # finding. For optimal sensitivity it should be the same as the expected sigma for your peaks.\n",
        "                                                                    # If you set it to zero (or comment it out) then this will not be performed, which can make the analysis faster.\n",
        "params.changeAttr(\"model\", \"3d\")                                  # Options: 2dfixed, 2d, 3d, Z\n",
        "                                                                    # 2dfixed - fixed sigma 2d gaussian fitting.\n",
        "                                                                    # 2d - variable sigma 2d gaussian fitting.\n",
        "                                                                    # 3d - x, y sigma are independently variable, z will be fit after peak fitting.\n",
        "                                                                    # Z - x, y sigma depend on z, z is fit as part of peak fitting.\n",
        "params.changeAttr(\"roi_size\", 28)                                 # This is the size of the fitting ROI in pixels. If it is not specified than the value\n",
        "                                                                    # will be calculated based on the sigma parameter value and the fitting model type\n",
        "params.changeAttr(\"z_value\", 0)                                   # The starting z value for fitting. If this is not specified it defaults to 0.0.\n",
        "params.changeAttr(\"z_step\", z_step)                                # Step size of Z search in microns.\n",
        "                                                                    # this is not specified it defaults to 1 nanometer. Units are microns.\n",
        "# Saving Options\n",
        "params.changeAttr('convert_to', \".txt\")                           # Specify what, if any, formats to convert the output HDF5 file into upon completion of the analysis.\n",
        "                                                                    # Options are .bin and .txt.\n",
        "                                                                    # Use a comma separated list if you want both. i.e. \".bin, .txt\".\n",
        "\n",
        "# Wx/Wy vs Z parameters. Units are nanometers or dimensionless                                                                    \n",
        "params.changeAttr(\"wxA\", 0)\n",
        "params.changeAttr(\"wxB\", 0)\n",
        "params.changeAttr(\"wxC\", 0)\n",
        "params.changeAttr(\"wxD\", 0)\n",
        "params.changeAttr(\"wx_c\", 0)\n",
        "params.changeAttr(\"wx_d\", 0)\n",
        "params.changeAttr(\"wx_wo\", 0)\n",
        "params.changeAttr(\"wyA\", 0)\n",
        "params.changeAttr(\"wyB\", 0)\n",
        "params.changeAttr(\"wyC\", 0)\n",
        "params.changeAttr(\"wyD\", 0)\n",
        "params.changeAttr(\"wy_c\", 0.0)\n",
        "params.changeAttr(\"wy_d\", 0)\n",
        "params.changeAttr(\"wy_wo\", 0)\n",
        "\n",
        "\n",
        "# Parameters that are specific to 3D-DAOSTORM analysis\n",
        "params.changeAttr(\"camera_gain\", 9.20)                            # 31.3/3.4 # Conversion factor to go from camera ADU to photo-electrons. Units are ADU/e-, so the camera ADU values will be divided by this number to convert to photo-electrons.\n",
        "params.changeAttr(\"camera_offset\", 4205)                          # This is what the camera reads with the shutter closed.\n",
        "\n",
        "\n",
        "# Help : Other parameters or Analysis Settings\n",
        "#print(params.helpAttr('sigma')) # for example. helpAttr(name)\n",
        "#print('\\n')\n",
        "\n",
        "params.prettyPrint()"
      ],
      "execution_count": 5,
      "outputs": [
        {
          "output_type": "stream",
          "text": [
            "aoi_radius (int) - None\n",
            "background_sigma (float) - 8.0\n",
            "camera_gain (float) - 9.2\n",
            "camera_offset (float) - 4205\n",
            "convert_to (string) - .txt\n",
            "cutoff (float) - 2\n",
            "d_scale (int) - 2\n",
            "descriptor (string) - 1\n",
            "do_zfit (int) - 0\n",
            "drift_correction (int) - 0\n",
            "fftw_estimate (int) - 0\n",
            "find_max_radius (int) - 6\n",
            "fit_error_model (string) - MLE\n",
            "foreground_sigma (float) - 1.5\n",
            "frame_step (int) - 100\n",
            "iterations (int) - 20\n",
            "max_frame (int) - -1\n",
            "max_gap (int) - None\n",
            "max_z (float) - 0.1\n",
            "min_z (float) - -1.2\n",
            "model (string) - 3d\n",
            "no_fitting (int) - None\n",
            "peak_locations (filename) - None\n",
            "pixel_size (float) - 144.5\n",
            "radius (float) - 0.5\n",
            "roi_size (int) - 28\n",
            "sigma (float) - 1.5\n",
            "sigma_range (float-array) - [0.75, 7.5]\n",
            "start_frame (int) - -1\n",
            "static_background_estimate (int) - 0\n",
            "threshold (float) - 6\n",
            "verbosity (int) - 1\n",
            "wxA (float) - 0\n",
            "wxB (float) - 0\n",
            "wxC (float) - 0\n",
            "wxD (float) - 0\n",
            "wx_c (float) - 0\n",
            "wx_d (float) - 0\n",
            "wx_wo (float) - 0\n",
            "wyA (float) - 0\n",
            "wyB (float) - 0\n",
            "wyC (float) - 0\n",
            "wyD (float) - 0\n",
            "wy_c (float) - 0.0\n",
            "wy_d (float) - 0\n",
            "wy_wo (float) - 0\n",
            "x_center (int) - None\n",
            "x_start (int) - None\n",
            "x_stop (int) - None\n",
            "y_center (int) - None\n",
            "y_start (int) - None\n",
            "y_stop (int) - None\n",
            "z_correction (int) - 0\n",
            "z_step (float) - 0.01\n",
            "z_value (float) - 0\n"
          ],
          "name": "stdout"
        }
      ]
    },
    {
      "cell_type": "code",
      "metadata": {
        "id": "OhU2Ya49dxg0",
        "colab": {
          "base_uri": "https://localhost:8080/"
        },
        "outputId": "381d33ba-ea2d-4313-b596-40c1ac8a7f6f"
      },
      "source": [
        "# Set for a single iteration, we don't want multiple iterations of peak finding\n",
        "# as this could cause stretched peaks to get split in half.\n",
        "params.changeAttr(\"iterations\", 1)\n",
        "\n",
        "# Use a large find max radius. This also reduces peak splitting.\n",
        "params.changeAttr(\"find_max_radius\", 10)\n",
        "\n",
        "# Use a higher threshold so that we don't get the dimmer localizations.\n",
        "params.changeAttr(\"threshold\", 18)\n",
        "\n",
        "# Don't do tracking or drift correction.\n",
        "params.changeAttr(\"radius\", 0.0)\n",
        "params.changeAttr(\"drift_correction\", 0)\n",
        "\n",
        "# Save the changed parameters.\n",
        "params.toXMLFile(\"calibration.xml\")\n",
        "\n",
        "params.prettyPrint()\n"
      ],
      "execution_count": 6,
      "outputs": [
        {
          "output_type": "stream",
          "text": [
            "aoi_radius (int) - None\n",
            "background_sigma (float) - 8.0\n",
            "camera_gain (float) - 9.2\n",
            "camera_offset (float) - 4205\n",
            "convert_to (string) - .txt\n",
            "cutoff (float) - 2\n",
            "d_scale (int) - 2\n",
            "descriptor (string) - 1\n",
            "do_zfit (int) - 0\n",
            "drift_correction (int) - 0\n",
            "fftw_estimate (int) - 0\n",
            "find_max_radius (int) - 10\n",
            "fit_error_model (string) - MLE\n",
            "foreground_sigma (float) - 1.5\n",
            "frame_step (int) - 100\n",
            "iterations (int) - 1\n",
            "max_frame (int) - -1\n",
            "max_gap (int) - None\n",
            "max_z (float) - 0.1\n",
            "min_z (float) - -1.2\n",
            "model (string) - 3d\n",
            "no_fitting (int) - None\n",
            "peak_locations (filename) - None\n",
            "pixel_size (float) - 144.5\n",
            "radius (float) - 0.0\n",
            "roi_size (int) - 28\n",
            "sigma (float) - 1.5\n",
            "sigma_range (float-array) - [0.75, 7.5]\n",
            "start_frame (int) - -1\n",
            "static_background_estimate (int) - 0\n",
            "threshold (float) - 18\n",
            "verbosity (int) - 1\n",
            "wxA (float) - 0\n",
            "wxB (float) - 0\n",
            "wxC (float) - 0\n",
            "wxD (float) - 0\n",
            "wx_c (float) - 0\n",
            "wx_d (float) - 0\n",
            "wx_wo (float) - 0\n",
            "wyA (float) - 0\n",
            "wyB (float) - 0\n",
            "wyC (float) - 0\n",
            "wyD (float) - 0\n",
            "wy_c (float) - 0.0\n",
            "wy_d (float) - 0\n",
            "wy_wo (float) - 0\n",
            "x_center (int) - None\n",
            "x_start (int) - None\n",
            "x_stop (int) - None\n",
            "y_center (int) - None\n",
            "y_start (int) - None\n",
            "y_stop (int) - None\n",
            "z_correction (int) - 0\n",
            "z_step (float) - 0.01\n",
            "z_value (float) - 0\n"
          ],
          "name": "stdout"
        }
      ]
    },
    {
      "cell_type": "markdown",
      "metadata": {
        "id": "PedJqWBhheAm"
      },
      "source": [
        "## **2) Calibration : Analyze**"
      ]
    },
    {
      "cell_type": "markdown",
      "metadata": {
        "id": "yAs1wUK5kpPR"
      },
      "source": [
        "### ① Analyzing Process"
      ]
    },
    {
      "cell_type": "markdown",
      "metadata": {
        "id": "6wrKdr9-dxg0"
      },
      "source": [
        "Analyze the calibration movie with 3D-DAOSTORM"
      ]
    },
    {
      "cell_type": "code",
      "metadata": {
        "id": "ZRZZu3ZOdxg1",
        "colab": {
          "base_uri": "https://localhost:8080/"
        },
        "outputId": "5e4c2cb8-f99f-4aa2-d42b-f16b9424924b"
      },
      "source": [
        "import os\n",
        "import storm_analysis.daostorm_3d.mufit_analysis as mfit\n",
        "\n",
        "if os.path.exists(\"calibration.hdf5\"):\n",
        "    os.remove(\"calibration.hdf5\")\n",
        "    \n",
        "mfit.analyze(tif_file, \"calibration.hdf5\", \"calibration.xml\")\n"
      ],
      "execution_count": 7,
      "outputs": [
        {
          "output_type": "stream",
          "text": [
            "\n",
            "version 2020.07.01\n",
            "\n",
            "Peak finding\n",
            " Removing values < 1.0 in frame 0\n",
            "Frame: 0 4 4\n",
            " Removing values < 1.0 in frame 1\n",
            "Frame: 1 4 8\n",
            " Removing values < 1.0 in frame 2\n",
            "Frame: 2 4 12\n",
            " Removing values < 1.0 in frame 3\n",
            "Frame: 3 4 16\n",
            " Removing values < 1.0 in frame 4\n",
            "Frame: 4 4 20\n",
            " Removing values < 1.0 in frame 5\n",
            "Frame: 5 4 24\n",
            " Removing values < 1.0 in frame 6\n",
            "Frame: 6 4 28\n",
            " Removing values < 1.0 in frame 7\n",
            "Frame: 7 4 32\n",
            " Removing values < 1.0 in frame 8\n",
            "Frame: 8 4 36\n",
            " Removing values < 1.0 in frame 9\n",
            "Frame: 9 4 40\n",
            " Removing values < 1.0 in frame 10\n",
            "Frame: 10 4 44\n",
            " Removing values < 1.0 in frame 11\n",
            "Frame: 11 4 48\n",
            " Removing values < 1.0 in frame 12\n",
            "Frame: 12 4 52\n",
            " Removing values < 1.0 in frame 13\n",
            "Frame: 13 4 56\n",
            " Removing values < 1.0 in frame 14\n",
            "Frame: 14 4 60\n",
            " Removing values < 1.0 in frame 15\n",
            "Frame: 15 4 64\n",
            " Removing values < 1.0 in frame 16\n",
            "Frame: 16 4 68\n",
            " Removing values < 1.0 in frame 17\n",
            "Frame: 17 4 72\n",
            " Removing values < 1.0 in frame 18\n",
            "Frame: 18 4 76\n",
            " Removing values < 1.0 in frame 19\n",
            "Frame: 19 4 80\n",
            " Removing values < 1.0 in frame 20\n",
            "Frame: 20 4 84\n",
            " Removing values < 1.0 in frame 21\n",
            "Frame: 21 4 88\n",
            " Removing values < 1.0 in frame 22\n",
            "Frame: 22 4 92\n",
            " Removing values < 1.0 in frame 23\n",
            "Frame: 23 4 96\n",
            " Removing values < 1.0 in frame 24\n",
            "Frame: 24 4 100\n",
            " Removing values < 1.0 in frame 25\n",
            "Frame: 25 4 104\n",
            " Removing values < 1.0 in frame 26\n",
            "Frame: 26 4 108\n",
            " Removing values < 1.0 in frame 27\n",
            "Frame: 27 4 112\n",
            " Removing values < 1.0 in frame 28\n",
            "Frame: 28 4 116\n",
            " Removing values < 1.0 in frame 29\n",
            "Frame: 29 4 120\n",
            " Removing values < 1.0 in frame 30\n",
            "Frame: 30 4 124\n",
            " Removing values < 1.0 in frame 31\n",
            "Frame: 31 4 128\n",
            " Removing values < 1.0 in frame 32\n",
            "Frame: 32 4 132\n",
            " Removing values < 1.0 in frame 33\n",
            "Frame: 33 4 136\n",
            " Removing values < 1.0 in frame 34\n",
            "Frame: 34 4 140\n",
            " Removing values < 1.0 in frame 35\n",
            "Frame: 35 4 144\n",
            " Removing values < 1.0 in frame 36\n",
            "Frame: 36 4 148\n",
            " Removing values < 1.0 in frame 37\n",
            "Frame: 37 4 152\n",
            " Removing values < 1.0 in frame 38\n",
            "Frame: 38 4 156\n",
            " Removing values < 1.0 in frame 39\n",
            "Frame: 39 4 160\n",
            " Removing values < 1.0 in frame 40\n",
            "Frame: 40 4 164\n",
            " Removing values < 1.0 in frame 41\n",
            "Frame: 41 4 168\n",
            " Removing values < 1.0 in frame 42\n",
            "Frame: 42 4 172\n",
            " Removing values < 1.0 in frame 43\n",
            "Frame: 43 4 176\n",
            " Removing values < 1.0 in frame 44\n",
            "Frame: 44 4 180\n",
            " Removing values < 1.0 in frame 45\n",
            "Frame: 45 4 184\n",
            " Removing values < 1.0 in frame 46\n",
            "Frame: 46 4 188\n",
            " Removing values < 1.0 in frame 47\n",
            "Frame: 47 4 192\n",
            " Removing values < 1.0 in frame 48\n",
            "Frame: 48 4 196\n",
            " Removing values < 1.0 in frame 49\n",
            "Frame: 49 4 200\n",
            " Removing values < 1.0 in frame 50\n",
            "Frame: 50 4 204\n",
            " Removing values < 1.0 in frame 51\n",
            "Frame: 51 4 208\n",
            " Removing values < 1.0 in frame 52\n",
            "Frame: 52 4 212\n",
            " Removing values < 1.0 in frame 53\n",
            "Frame: 53 4 216\n",
            " Removing values < 1.0 in frame 54\n",
            "Frame: 54 4 220\n",
            " Removing values < 1.0 in frame 55\n",
            "Frame: 55 4 224\n",
            " Removing values < 1.0 in frame 56\n",
            "Frame: 56 4 228\n",
            " Removing values < 1.0 in frame 57\n",
            "Frame: 57 4 232\n",
            " Removing values < 1.0 in frame 58\n",
            "Frame: 58 4 236\n",
            " Removing values < 1.0 in frame 59\n",
            "Frame: 59 4 240\n",
            " Removing values < 1.0 in frame 60\n",
            "Frame: 60 4 244\n",
            " Removing values < 1.0 in frame 61\n",
            "Frame: 61 4 248\n",
            " Removing values < 1.0 in frame 62\n",
            "Frame: 62 4 252\n",
            " Removing values < 1.0 in frame 63\n",
            "Frame: 63 4 256\n",
            " Removing values < 1.0 in frame 64\n",
            "Frame: 64 4 260\n",
            " Removing values < 1.0 in frame 65\n",
            "Frame: 65 4 264\n",
            " Removing values < 1.0 in frame 66\n",
            "Frame: 66 4 268\n",
            " Removing values < 1.0 in frame 67\n",
            "Frame: 67 4 272\n",
            " Removing values < 1.0 in frame 68\n",
            "Frame: 68 4 276\n",
            " Removing values < 1.0 in frame 69\n",
            "Frame: 69 4 280\n",
            " Removing values < 1.0 in frame 70\n",
            "Frame: 70 4 284\n",
            " Removing values < 1.0 in frame 71\n",
            "Frame: 71 4 288\n",
            " Removing values < 1.0 in frame 72\n",
            "Frame: 72 4 292\n",
            " Removing values < 1.0 in frame 73\n",
            "Frame: 73 4 296\n",
            " Removing values < 1.0 in frame 74\n",
            "Frame: 74 4 300\n",
            " Removing values < 1.0 in frame 75\n",
            "Frame: 75 4 304\n",
            " Removing values < 1.0 in frame 76\n",
            "Frame: 76 4 308\n",
            " Removing values < 1.0 in frame 77\n",
            "Frame: 77 4 312\n",
            " Removing values < 1.0 in frame 78\n",
            "Frame: 78 4 316\n",
            " Removing values < 1.0 in frame 79\n",
            "Frame: 79 4 320\n",
            " Removing values < 1.0 in frame 80\n",
            "Frame: 80 4 324\n",
            " Removing values < 1.0 in frame 81\n",
            "Frame: 81 4 328\n",
            " Removing values < 1.0 in frame 82\n",
            "Frame: 82 4 332\n",
            " Removing values < 1.0 in frame 83\n",
            "Frame: 83 4 336\n",
            " Removing values < 1.0 in frame 84\n",
            "Frame: 84 4 340\n",
            " Removing values < 1.0 in frame 85\n",
            "Frame: 85 4 344\n",
            " Removing values < 1.0 in frame 86\n",
            "Frame: 86 4 348\n",
            " Removing values < 1.0 in frame 87\n",
            "Frame: 87 4 352\n",
            " Removing values < 1.0 in frame 88\n",
            "Frame: 88 4 356\n",
            " Removing values < 1.0 in frame 89\n",
            "Frame: 89 4 360\n",
            " Removing values < 1.0 in frame 90\n",
            "Frame: 90 4 364\n",
            " Removing values < 1.0 in frame 91\n",
            "Frame: 91 4 368\n",
            " Removing values < 1.0 in frame 92\n",
            "Frame: 92 4 372\n",
            " Removing values < 1.0 in frame 93\n",
            "Frame: 93 4 376\n",
            " Removing values < 1.0 in frame 94\n",
            "Frame: 94 4 380\n",
            " Removing values < 1.0 in frame 95\n",
            "Frame: 95 4 384\n",
            " Removing values < 1.0 in frame 96\n",
            "Frame: 96 4 388\n",
            " Removing values < 1.0 in frame 97\n",
            "Frame: 97 4 392\n",
            " Removing values < 1.0 in frame 98\n",
            "Frame: 98 4 396\n",
            " Removing values < 1.0 in frame 99\n",
            "Frame: 99 4 400\n",
            " Removing values < 1.0 in frame 100\n",
            "Frame: 100 4 404\n",
            " Removing values < 1.0 in frame 101\n",
            "Frame: 101 4 408\n",
            " Removing values < 1.0 in frame 102\n",
            "Frame: 102 4 412\n",
            " Removing values < 1.0 in frame 103\n",
            "Frame: 103 4 416\n",
            " Removing values < 1.0 in frame 104\n",
            "Frame: 104 4 420\n",
            " Removing values < 1.0 in frame 105\n",
            "Frame: 105 4 424\n",
            " Removing values < 1.0 in frame 106\n",
            "Frame: 106 4 428\n",
            " Removing values < 1.0 in frame 107\n",
            "Frame: 107 4 432\n",
            " Removing values < 1.0 in frame 108\n",
            "Frame: 108 4 436\n",
            " Removing values < 1.0 in frame 109\n",
            "Frame: 109 4 440\n",
            " Removing values < 1.0 in frame 110\n",
            "Frame: 110 4 444\n",
            " Removing values < 1.0 in frame 111\n",
            "Frame: 111 4 448\n",
            " Removing values < 1.0 in frame 112\n",
            "Frame: 112 4 452\n",
            " Removing values < 1.0 in frame 113\n",
            "Frame: 113 4 456\n",
            " Removing values < 1.0 in frame 114\n",
            "Frame: 114 4 460\n",
            " Removing values < 1.0 in frame 115\n",
            "Frame: 115 4 464\n",
            " Removing values < 1.0 in frame 116\n",
            "Frame: 116 4 468\n",
            " Removing values < 1.0 in frame 117\n",
            "Frame: 117 4 472\n",
            " Removing values < 1.0 in frame 118\n",
            "Frame: 118 4 476\n",
            " Removing values < 1.0 in frame 119\n",
            "Frame: 119 4 480\n",
            " Removing values < 1.0 in frame 120\n",
            "Frame: 120 4 484\n",
            "\n",
            "Added 484\n",
            "   121 peak finding iterations.\n",
            "\n",
            "   0 fits reset due to Cholesky failure.\n",
            "   0 fits reset due to image margin.\n",
            "   83 fits reset due to negative value in fit function.\n",
            "   0 fits reset due to negative height.\n",
            "   18 fits reset due to non-decreasing error (LM).\n",
            "   0 fits did not converge.\n",
            "   0 fits were lost.\n",
            "   0 peaks lost to proximity filter.\n",
            "   0 peaks lost to low significance.\n",
            "   8987 fitting iterations.\n",
            "\n",
            "Tracking.\n",
            "\n",
            "Checking z values.\n",
            "\n",
            "File format conversions.\n",
            " Converting to text.\n",
            "Converting localizations.\n",
            "\n",
            "Analysis complete\n"
          ],
          "name": "stdout"
        }
      ]
    },
    {
      "cell_type": "markdown",
      "metadata": {
        "id": "xthJUiO1dxg1"
      },
      "source": [
        "Check results with overlay images."
      ]
    },
    {
      "cell_type": "code",
      "metadata": {
        "id": "62KBtusqdxg1",
        "colab": {
          "base_uri": "https://localhost:8080/",
          "height": 491
        },
        "outputId": "85c48fa9-63e7-4e0d-cfc7-e8be2b49089f"
      },
      "source": [
        "# Overlay image at z near zero.\n",
        "import storm_analysis.jupyter_examples.overlay_image as overlay_image\n",
        "\n",
        "overlay_image.overlayImage(tif_file, \"calibration.hdf5\", 10)\n",
        "overlay_image.overlayImage(tif_file, \"calibration.hdf5\", 40)\n",
        "overlay_image.overlayImage(tif_file, \"calibration.hdf5\", 70)"
      ],
      "execution_count": 8,
      "outputs": [
        {
          "output_type": "display_data",
          "data": {
            "image/png": "[encoded data removed]",
            "text/plain": [
              "<Figure size 576x576 with 1 Axes>"
            ]
          },
          "metadata": {
            "tags": [],
            "needs_background": "light"
          }
        },
        {
          "output_type": "display_data",
          "data": {
            "image/png": "[encoded data removed]",
            "text/plain": [
              "<Figure size 576x576 with 1 Axes>"
            ]
          },
          "metadata": {
            "tags": [],
            "needs_background": "light"
          }
        },
        {
          "output_type": "display_data",
          "data": {
            "image/png": "[encoded data removed]",
            "text/plain": [
              "<Figure size 576x576 with 1 Axes>"
            ]
          },
          "metadata": {
            "tags": [],
            "needs_background": "light"
          }
        }
      ]
    },
    {
      "cell_type": "markdown",
      "metadata": {
        "id": "6Rhu2kIjd3p5"
      },
      "source": [
        "Creating an image from the analysis"
      ]
    },
    {
      "cell_type": "code",
      "metadata": {
        "colab": {
          "base_uri": "https://localhost:8080/",
          "height": 210
        },
        "id": "t_oDO1s3dpMA",
        "outputId": "3d355caf-36e0-4f06-fd5c-097dc829b855"
      },
      "source": [
        "import matplotlib\n",
        "import matplotlib.pyplot as pyplot\n",
        "import storm_analysis.sa_utilities.hdf5_to_image as h5_image\n",
        "\n",
        "#     Create a grayscale image from a HDF5 format localizations file. This will use\n",
        "#    the tracks if available, otherwise it will use the localizations.\n",
        "\n",
        "\n",
        "\"\"\"\n",
        "    Create a grayscale image from a HDF5 format localizations file. This will use\n",
        "    the tracks if available, otherwise it will use the localizations.\n",
        "\n",
        "    h5_name - The name of the HDF5 file.\n",
        "    category - Filter for localizations of this category. The default is all categories.\n",
        "    offsets - List containing [X,Y] offset of the image origin.  The default is no offset.\n",
        "    scale - The 'zoom' level of the output image, i.e. if the original STORM movie was\n",
        "            256x256 and scale = 2 then the output image will be 512x512.\n",
        "    sigma - The sigma to use when rendering gaussians (pixels). If this is None then\n",
        "            the image will be a histogram.\n",
        "\"\"\"\n",
        "\n",
        "sr_im = h5_image.render2DImage(\"calibration.hdf5\", scale = 5, sigma = 1) # # This sigma is not same value with above sigma. It has other meaning.\n",
        "\n",
        "fig = pyplot.figure(figsize = (8, 8))\n",
        "ax = fig.add_subplot(1,1,1)\n",
        "ax.imshow(sr_im)\n",
        "ax.set_title(\"SR Image\")\n",
        "\n",
        "pyplot.show()"
      ],
      "execution_count": 9,
      "outputs": [
        {
          "output_type": "stream",
          "text": [
            "Tracks not found, using localizations.\n",
            ".\n"
          ],
          "name": "stdout"
        },
        {
          "output_type": "display_data",
          "data": {
            "image/png": "[encoded data removed]",
            "text/plain": [
              "<Figure size 576x576 with 1 Axes>"
            ]
          },
          "metadata": {
            "tags": [],
            "needs_background": "light"
          }
        }
      ]
    },
    {
      "cell_type": "markdown",
      "metadata": {
        "id": "xcRVZzutfyDN"
      },
      "source": [
        "### (Optional) Create beads text file for Wobble Correction"
      ]
    },
    {
      "cell_type": "code",
      "metadata": {
        "id": "Gb57YZNBffAO"
      },
      "source": [
        "def hdf5ToWobbleText(hdf5_name, text_name, x_pix_to_nm, y_pix_to_nm):\n",
        "    import storm_analysis.sa_library.sa_h5py as saH5Py\n",
        "    smlc_file_fp = open(text_name, \"w\")\n",
        "    smlc_file_fp.write(\"index, frame, xnano, ynano, znano, intensity\\n\")\n",
        "\n",
        "    print(\"Saving Localizations\")\n",
        "    count = 0\n",
        "    with saH5Py.SAH5Py(hdf5_name) as h5:\n",
        "        for fnum, locs in h5.localizationsIterator(fields = [\"x\", \"y\", \"sum\"]):\n",
        "                 \n",
        "            for i in range(locs[\"x\"].size):\n",
        "                count += 1\n",
        "                xp = locs[\"x\"][i]*x_pix_to_nm\n",
        "                yp = locs[\"y\"][i]*y_pix_to_nm\n",
        "                zp = 0.0\n",
        "                intensity = locs[\"sum\"][i]\n",
        "                    \n",
        "                smlc_file_fp.write(\"{0:d}, {1:d}, {2:.3f}, {3:.3f}, {4:.3f}, {5:.3f}\\n\".format(count, fnum, xp, yp, zp, intensity))\n",
        "\n",
        "    print()\n",
        "    print(\"Saved\", count, \"localizations.\")\n",
        "    smlc_file_fp.close()"
      ],
      "execution_count": 10,
      "outputs": []
    },
    {
      "cell_type": "code",
      "metadata": {
        "colab": {
          "base_uri": "https://localhost:8080/"
        },
        "id": "39GSC0qRfjVg",
        "outputId": "88b74339-84d1-4e67-ea72-933e54c228cd"
      },
      "source": [
        "hdf5ToWobbleText(\"calibration.hdf5\", \"wobble.txt\", 144.5, 144.5) # x_pix_to_nm, y_pix_to_nm"
      ],
      "execution_count": 11,
      "outputs": [
        {
          "output_type": "stream",
          "text": [
            "Saving Localizations\n",
            "\n",
            "Saved 484 localizations.\n"
          ],
          "name": "stdout"
        }
      ]
    },
    {
      "cell_type": "markdown",
      "metadata": {
        "id": "sqwb5mqpk68q"
      },
      "source": [
        "### ② Plotting the calibration result"
      ]
    },
    {
      "cell_type": "markdown",
      "metadata": {
        "id": "iwElep4ldxg2"
      },
      "source": [
        "Plot Wx / Wy versus Z curves."
      ]
    },
    {
      "cell_type": "code",
      "metadata": {
        "id": "4GT84q8Ndxg2",
        "colab": {
          "base_uri": "https://localhost:8080/",
          "height": 404
        },
        "outputId": "b20ad79f-3f8d-444d-8e17-93cf036ca725"
      },
      "source": [
        "import matplotlib\n",
        "import matplotlib.pyplot as pyplot\n",
        "\n",
        "# Change default figure size.\n",
        "matplotlib.rcParams['figure.figsize'] = (12,6)\n",
        "\n",
        "import storm_analysis.daostorm_3d.z_calibration as z_cal\n",
        "\n",
        "[wx, wy, z, pixel_size] = z_cal.loadWxWyZData(\"calibration.hdf5\", address_z_offsets)\n",
        "\n",
        "p1 = pyplot.scatter(z, wx, color = 'r', label = 'Wx', s=1) # Curves1 (z vs wx)\n",
        "p2 = pyplot.scatter(z, wy, color = 'g', label = 'Wy', s=1) # Curves2 (z vs wy)\n",
        "legend = pyplot.legend(handles = [p1, p2], loc=1)\n",
        "legend.get_frame().set_linewidth(2)\n",
        "legend.get_frame().set_edgecolor('black')\n",
        "pyplot.xlabel(\"microns\")\n",
        "pyplot.ylabel(\"pixels\")\n",
        "pyplot.title(\"Calibration Result : Wx & Wy versus Z curves\")\n",
        "pyplot.show()"
      ],
      "execution_count": 12,
      "outputs": [
        {
          "output_type": "display_data",
          "data": {
            "image/png": "[encoded data removed]",
            "text/plain": [
              "<Figure size 864x432 with 1 Axes>"
            ]
          },
          "metadata": {
            "tags": [],
            "needs_background": "light"
          }
        }
      ]
    },
    {
      "cell_type": "code",
      "metadata": {
        "id": "zl86jvqudxg2",
        "colab": {
          "base_uri": "https://localhost:8080/",
          "height": 876
        },
        "outputId": "ea37fa58-6bd6-4175-fb4e-b3a2174e38be"
      },
      "source": [
        "###\n",
        "### The function z_cal.calibrate() will perform all of these steps at once.\n",
        "###\n",
        "\n",
        "fit_order = 4\n",
        "outliers = 3.0 # Sigma to be considered an outlier.\n",
        "\n",
        "###################################################\n",
        "#############  Parameter Discription ##############\n",
        "###################################################\n",
        "\n",
        "##     wx_params - Parameters for wx versus z fit.\n",
        "##     wy_params - Parameters for wy versus z fit.\n",
        "##     z - Numpy array with z values in microns.\n",
        "##     n_additional - The number of additional fitting parameters to use,\n",
        "##                    these are 'A,B,C,D'.\n",
        "##     z_params - (Optional) 3 element list containing an initial guess\n",
        "##                for the z fitting parameters.\n",
        "###################################################\n",
        "###################################################\n",
        "\n",
        "# Initial guess, this is optional, but might be necessary if your setup is\n",
        "# significantly different from what storm-analysis expects.\n",
        "\n",
        "# It can also help to boot-strap to higher fitting orders.\n",
        "\n",
        "p_start = [3.2,0.19,0.3]\n",
        "###################################################\n",
        "###################################################\n",
        "\n",
        "# Fit curves\n",
        "print(\"Fitting (round 1).\")\n",
        "[wx_params, wy_params] = z_cal.fitDefocusingCurves(wx, wy, z, n_additional = 0, z_params = p_start)\n",
        "print(wx_params)\n",
        "p_start = wx_params[:3]\n",
        "\n",
        "# Fit curves.\n",
        "print(\"Fitting (round 2).\")\n",
        "[wx_params, wy_params] = z_cal.fitDefocusingCurves(wx, wy, z, n_additional = fit_order, z_params = p_start)\n",
        "print(wx_params)\n",
        "p_start = wx_params[:3]\n",
        "\n",
        "# Remove outliers.\n",
        "  # This removes all wx, wy that are more than threshold sigma from the fit curve.\n",
        "print(\"Removing outliers.\")\n",
        "[t_wx, t_wy, t_z] = z_cal.removeOutliers(wx, wy, z, wx_params, wy_params, outliers)\n",
        "\n",
        "# Redo fit.\n",
        "print(\"Fitting (round 3).\")\n",
        "[wx_params, wy_params] = z_cal.fitDefocusingCurves(t_wx, t_wy, t_z, n_additional = fit_order, z_params = p_start)\n",
        "\n",
        "# Plot fit.\n",
        "z_cal.plotFit(wx, wy, z, t_wx, t_wy, t_z, wx_params, wy_params, z_min = min_z, z_max = max_z, z_step = z_step)\n",
        "\n",
        "# This prints the parameter with the scale expected by 3D-DAOSTORM in the analysis XML file.\n",
        "z_cal.prettyPrint(wx_params, wy_params, pixel_size = pixel_size)"
      ],
      "execution_count": 13,
      "outputs": [
        {
          "output_type": "stream",
          "text": [
            "Fitting (round 1).\n",
            "[2.6870518615951817, 0.23331069102284693, 0.6072016373310866]\n",
            "Fitting (round 2).\n",
            "[2.7413205782897148, 0.18178800638356446, 0.6417688106808308, 0.011213912777632755, 0.02457520126503613, -0.012960672556283144, -0.003844432550098269]\n",
            "Removing outliers.\n",
            "Fitting (round 3).\n"
          ],
          "name": "stdout"
        },
        {
          "output_type": "stream",
          "text": [
            "/usr/local/lib/python3.7/dist-packages/storm_analysis-2.2-py3.7.egg/storm_analysis/daostorm_3d/z_calibration.py:396: RuntimeWarning: invalid value encountered in sqrt\n",
            "  return wo*numpy.sqrt(1.0 + numpy.power(X,2) + A * numpy.power(X,3) + B * numpy.power(X,4) + C * numpy.power(X,5) + D * numpy.power(X,6))\n"
          ],
          "name": "stderr"
        },
        {
          "output_type": "display_data",
          "data": {
            "image/png": "[encoded data removed]",
            "text/plain": [
              "<Figure size 864x432 with 1 Axes>"
            ]
          },
          "metadata": {
            "tags": [],
            "needs_background": "light"
          }
        },
        {
          "output_type": "stream",
          "text": [
            "<?xml version=\"1.0\" encoding=\"ISO-8859-1\"?>\n",
            "<xml>\n",
            "   <wx_wo>395.968</wx_wo>\n",
            "   <wx_c>175.113</wx_c>\n",
            "   <wx_d>638.872</wx_d>\n",
            "   <wxA>-0.015</wxA>\n",
            "   <wxB>0.016</wxB>\n",
            "   <wxC>-0.008</wxC>\n",
            "   <wxD>-0.002</wxD>\n",
            "   <wy_wo>440.206</wy_wo>\n",
            "   <wy_c>-877.648</wy_c>\n",
            "   <wy_d>1166.152</wy_d>\n",
            "   <wyA>-0.550</wyA>\n",
            "   <wyB>0.020</wyB>\n",
            "   <wyC>0.258</wyC>\n",
            "   <wyD>-0.087</wyD>\n",
            "</xml>\n",
            "\n"
          ],
          "name": "stdout"
        }
      ]
    },
    {
      "cell_type": "markdown",
      "metadata": {
        "id": "OwQ7KooMdxg3"
      },
      "source": [
        "### ③ Saving New Parameters : \n",
        "Create a parameters file with these calibration values.\n",
        "\n"
      ]
    },
    {
      "cell_type": "code",
      "metadata": {
        "id": "GF_zq3Nedxg3",
        "colab": {
          "base_uri": "https://localhost:8080/"
        },
        "outputId": "5cf5b57f-1829-42c2-8436-3581b6e05082"
      },
      "source": [
        "import storm_analysis.sa_library.parameters as params\n",
        "\n",
        "# Load the parameters.\n",
        "new_params = params.ParametersDAO().initFromFile(\"calibration.xml\")\n",
        "\n",
        "# Update calibration parameters.\n",
        "z_cal.setWxWyParams(new_params, wx_params, wy_params, pixel_size)\n",
        "\n",
        "# Do z fitting.\n",
        "new_params.changeAttr(\"do_zfit\", 1)\n",
        "\n",
        "# Set maximum allowed distance in wx, wy space that a point can be from the \n",
        "# calibration curve.\n",
        "new_params.changeAttr(\"cutoff\", 2.0)\n",
        "\n",
        "# Use a higher threshold as the Gaussian PSF is not a good match for our PSF model, so\n",
        "# we'll get spurious peak splitting if it is too low.\n",
        "new_params.changeAttr(\"threshold\", 18)\n",
        "\n",
        "# Don't do tracking or drift correction as this movie is the same as the calibration\n",
        "# movie, every frame has a different z value.\n",
        "new_params.changeAttr(\"radius\", 0.0)\n",
        "new_params.changeAttr(\"drift_correction\", 0)\n",
        "\n",
        "new_params.prettyPrint()\n",
        "\n",
        "# Save the changed parameters.\n",
        "new_params.toXMLFile(\"measure.xml\")"
      ],
      "execution_count": 14,
      "outputs": [
        {
          "output_type": "stream",
          "text": [
            "aoi_radius (int) - None\n",
            "background_sigma (float) - 8.0\n",
            "camera_gain (float) - 9.2\n",
            "camera_offset (float) - 4205.0\n",
            "convert_to (string) - .txt\n",
            "cutoff (float) - 2.0\n",
            "d_scale (int) - 2\n",
            "descriptor (string) - 1\n",
            "do_zfit (int) - 1\n",
            "drift_correction (int) - 0\n",
            "fftw_estimate (int) - 0\n",
            "find_max_radius (int) - 10\n",
            "fit_error_model (string) - MLE\n",
            "foreground_sigma (float) - 1.5\n",
            "frame_step (int) - 100\n",
            "iterations (int) - 1\n",
            "max_frame (int) - -1\n",
            "max_gap (int) - None\n",
            "max_z (float) - 0.1\n",
            "min_z (float) - -1.2\n",
            "model (string) - 3d\n",
            "no_fitting (int) - None\n",
            "parameters_file (parameters_filename) - calibration.xml\n",
            "peak_locations (filename) - None\n",
            "pixel_size (float) - 144.5\n",
            "radius (float) - 0.0\n",
            "roi_size (int) - 28\n",
            "sigma (float) - 1.5\n",
            "sigma_range (float-array) - [0.75, 7.5]\n",
            "start_frame (int) - -1\n",
            "static_background_estimate (int) - 0\n",
            "threshold (float) - 18\n",
            "verbosity (int) - 1\n",
            "wxA (float) - -0.015221015975182134\n",
            "wxB (float) - 0.015904017889625234\n",
            "wxC (float) - -0.007629232004026259\n",
            "wxD (float) - -0.002081230072591273\n",
            "wx_c (float) - 175.11286141149037\n",
            "wx_d (float) - 638.8719516072648\n",
            "wx_wo (float) - 395.9679776155108\n",
            "wyA (float) - -0.5497276468967074\n",
            "wyB (float) - 0.019584049658604136\n",
            "wyC (float) - 0.25757030007848974\n",
            "wyD (float) - -0.08723952614724804\n",
            "wy_c (float) - -877.6484970639586\n",
            "wy_d (float) - 1166.1516214894168\n",
            "wy_wo (float) - 440.2059914327947\n",
            "x_center (int) - None\n",
            "x_start (int) - None\n",
            "x_stop (int) - None\n",
            "y_center (int) - None\n",
            "y_start (int) - None\n",
            "y_stop (int) - None\n",
            "z_correction (int) - 0\n",
            "z_step (float) - 0.01\n",
            "z_value (float) - 0.0\n"
          ],
          "name": "stdout"
        }
      ]
    },
    {
      "cell_type": "markdown",
      "metadata": {
        "id": "6SWWgngNkU95"
      },
      "source": [
        "## **3) Test : Analyze**"
      ]
    },
    {
      "cell_type": "markdown",
      "metadata": {
        "id": "xi__-D_idxg3"
      },
      "source": [
        "### ① Analyze test movie with the above z-calibration parameters."
      ]
    },
    {
      "cell_type": "code",
      "metadata": {
        "id": "cD2EP37sdxg3",
        "colab": {
          "base_uri": "https://localhost:8080/"
        },
        "outputId": "4e6a8a64-8877-4e95-87fe-802e077607fc"
      },
      "source": [
        "if os.path.exists(\"measure.hdf5\"):\n",
        "    os.remove(\"measure.hdf5\")\n",
        "    \n",
        "mfit.analyze(tif_file, \"measure.hdf5\", \"measure.xml\")\n"
      ],
      "execution_count": 15,
      "outputs": [
        {
          "output_type": "stream",
          "text": [
            "\n",
            "version 2020.07.01\n",
            "\n",
            "Peak finding\n",
            " Removing values < 1.0 in frame 0\n",
            "Frame: 0 4 4\n",
            " Removing values < 1.0 in frame 1\n",
            "Frame: 1 4 8\n",
            " Removing values < 1.0 in frame 2\n",
            "Frame: 2 4 12\n",
            " Removing values < 1.0 in frame 3\n",
            "Frame: 3 4 16\n",
            " Removing values < 1.0 in frame 4\n",
            "Frame: 4 4 20\n",
            " Removing values < 1.0 in frame 5\n",
            "Frame: 5 4 24\n",
            " Removing values < 1.0 in frame 6\n",
            "Frame: 6 4 28\n",
            " Removing values < 1.0 in frame 7\n",
            "Frame: 7 4 32\n",
            " Removing values < 1.0 in frame 8\n",
            "Frame: 8 4 36\n",
            " Removing values < 1.0 in frame 9\n",
            "Frame: 9 4 40\n",
            " Removing values < 1.0 in frame 10\n",
            "Frame: 10 4 44\n",
            " Removing values < 1.0 in frame 11\n",
            "Frame: 11 4 48\n",
            " Removing values < 1.0 in frame 12\n",
            "Frame: 12 4 52\n",
            " Removing values < 1.0 in frame 13\n",
            "Frame: 13 4 56\n",
            " Removing values < 1.0 in frame 14\n",
            "Frame: 14 4 60\n",
            " Removing values < 1.0 in frame 15\n",
            "Frame: 15 4 64\n",
            " Removing values < 1.0 in frame 16\n",
            "Frame: 16 4 68\n",
            " Removing values < 1.0 in frame 17\n",
            "Frame: 17 4 72\n",
            " Removing values < 1.0 in frame 18\n",
            "Frame: 18 4 76\n",
            " Removing values < 1.0 in frame 19\n",
            "Frame: 19 4 80\n",
            " Removing values < 1.0 in frame 20\n",
            "Frame: 20 4 84\n",
            " Removing values < 1.0 in frame 21\n",
            "Frame: 21 4 88\n",
            " Removing values < 1.0 in frame 22\n",
            "Frame: 22 4 92\n",
            " Removing values < 1.0 in frame 23\n",
            "Frame: 23 4 96\n",
            " Removing values < 1.0 in frame 24\n",
            "Frame: 24 4 100\n",
            " Removing values < 1.0 in frame 25\n",
            "Frame: 25 4 104\n",
            " Removing values < 1.0 in frame 26\n",
            "Frame: 26 4 108\n",
            " Removing values < 1.0 in frame 27\n",
            "Frame: 27 4 112\n",
            " Removing values < 1.0 in frame 28\n",
            "Frame: 28 4 116\n",
            " Removing values < 1.0 in frame 29\n",
            "Frame: 29 4 120\n",
            " Removing values < 1.0 in frame 30\n",
            "Frame: 30 4 124\n",
            " Removing values < 1.0 in frame 31\n",
            "Frame: 31 4 128\n",
            " Removing values < 1.0 in frame 32\n",
            "Frame: 32 4 132\n",
            " Removing values < 1.0 in frame 33\n",
            "Frame: 33 4 136\n",
            " Removing values < 1.0 in frame 34\n",
            "Frame: 34 4 140\n",
            " Removing values < 1.0 in frame 35\n",
            "Frame: 35 4 144\n",
            " Removing values < 1.0 in frame 36\n",
            "Frame: 36 4 148\n",
            " Removing values < 1.0 in frame 37\n",
            "Frame: 37 4 152\n",
            " Removing values < 1.0 in frame 38\n",
            "Frame: 38 4 156\n",
            " Removing values < 1.0 in frame 39\n",
            "Frame: 39 4 160\n",
            " Removing values < 1.0 in frame 40\n",
            "Frame: 40 4 164\n",
            " Removing values < 1.0 in frame 41\n",
            "Frame: 41 4 168\n",
            " Removing values < 1.0 in frame 42\n",
            "Frame: 42 4 172\n",
            " Removing values < 1.0 in frame 43\n",
            "Frame: 43 4 176\n",
            " Removing values < 1.0 in frame 44\n",
            "Frame: 44 4 180\n",
            " Removing values < 1.0 in frame 45\n",
            "Frame: 45 4 184\n",
            " Removing values < 1.0 in frame 46\n",
            "Frame: 46 4 188\n",
            " Removing values < 1.0 in frame 47\n",
            "Frame: 47 4 192\n",
            " Removing values < 1.0 in frame 48\n",
            "Frame: 48 4 196\n",
            " Removing values < 1.0 in frame 49\n",
            "Frame: 49 4 200\n",
            " Removing values < 1.0 in frame 50\n",
            "Frame: 50 4 204\n",
            " Removing values < 1.0 in frame 51\n",
            "Frame: 51 4 208\n",
            " Removing values < 1.0 in frame 52\n",
            "Frame: 52 4 212\n",
            " Removing values < 1.0 in frame 53\n",
            "Frame: 53 4 216\n",
            " Removing values < 1.0 in frame 54\n",
            "Frame: 54 4 220\n",
            " Removing values < 1.0 in frame 55\n",
            "Frame: 55 4 224\n",
            " Removing values < 1.0 in frame 56\n",
            "Frame: 56 4 228\n",
            " Removing values < 1.0 in frame 57\n",
            "Frame: 57 4 232\n",
            " Removing values < 1.0 in frame 58\n",
            "Frame: 58 4 236\n",
            " Removing values < 1.0 in frame 59\n",
            "Frame: 59 4 240\n",
            " Removing values < 1.0 in frame 60\n",
            "Frame: 60 4 244\n",
            " Removing values < 1.0 in frame 61\n",
            "Frame: 61 4 248\n",
            " Removing values < 1.0 in frame 62\n",
            "Frame: 62 4 252\n",
            " Removing values < 1.0 in frame 63\n",
            "Frame: 63 4 256\n",
            " Removing values < 1.0 in frame 64\n",
            "Frame: 64 4 260\n",
            " Removing values < 1.0 in frame 65\n",
            "Frame: 65 4 264\n",
            " Removing values < 1.0 in frame 66\n",
            "Frame: 66 4 268\n",
            " Removing values < 1.0 in frame 67\n",
            "Frame: 67 4 272\n",
            " Removing values < 1.0 in frame 68\n",
            "Frame: 68 4 276\n",
            " Removing values < 1.0 in frame 69\n",
            "Frame: 69 4 280\n",
            " Removing values < 1.0 in frame 70\n",
            "Frame: 70 4 284\n",
            " Removing values < 1.0 in frame 71\n",
            "Frame: 71 4 288\n",
            " Removing values < 1.0 in frame 72\n",
            "Frame: 72 4 292\n",
            " Removing values < 1.0 in frame 73\n",
            "Frame: 73 4 296\n",
            " Removing values < 1.0 in frame 74\n",
            "Frame: 74 4 300\n",
            " Removing values < 1.0 in frame 75\n",
            "Frame: 75 4 304\n",
            " Removing values < 1.0 in frame 76\n",
            "Frame: 76 4 308\n",
            " Removing values < 1.0 in frame 77\n",
            "Frame: 77 4 312\n",
            " Removing values < 1.0 in frame 78\n",
            "Frame: 78 4 316\n",
            " Removing values < 1.0 in frame 79\n",
            "Frame: 79 4 320\n",
            " Removing values < 1.0 in frame 80\n",
            "Frame: 80 4 324\n",
            " Removing values < 1.0 in frame 81\n",
            "Frame: 81 4 328\n",
            " Removing values < 1.0 in frame 82\n",
            "Frame: 82 4 332\n",
            " Removing values < 1.0 in frame 83\n",
            "Frame: 83 4 336\n",
            " Removing values < 1.0 in frame 84\n",
            "Frame: 84 4 340\n",
            " Removing values < 1.0 in frame 85\n",
            "Frame: 85 4 344\n",
            " Removing values < 1.0 in frame 86\n",
            "Frame: 86 4 348\n",
            " Removing values < 1.0 in frame 87\n",
            "Frame: 87 4 352\n",
            " Removing values < 1.0 in frame 88\n",
            "Frame: 88 4 356\n",
            " Removing values < 1.0 in frame 89\n",
            "Frame: 89 4 360\n",
            " Removing values < 1.0 in frame 90\n",
            "Frame: 90 4 364\n",
            " Removing values < 1.0 in frame 91\n",
            "Frame: 91 4 368\n",
            " Removing values < 1.0 in frame 92\n",
            "Frame: 92 4 372\n",
            " Removing values < 1.0 in frame 93\n",
            "Frame: 93 4 376\n",
            " Removing values < 1.0 in frame 94\n",
            "Frame: 94 4 380\n",
            " Removing values < 1.0 in frame 95\n",
            "Frame: 95 4 384\n",
            " Removing values < 1.0 in frame 96\n",
            "Frame: 96 4 388\n",
            " Removing values < 1.0 in frame 97\n",
            "Frame: 97 4 392\n",
            " Removing values < 1.0 in frame 98\n",
            "Frame: 98 4 396\n",
            " Removing values < 1.0 in frame 99\n",
            "Frame: 99 4 400\n",
            " Removing values < 1.0 in frame 100\n",
            "Frame: 100 4 404\n",
            " Removing values < 1.0 in frame 101\n",
            "Frame: 101 4 408\n",
            " Removing values < 1.0 in frame 102\n",
            "Frame: 102 4 412\n",
            " Removing values < 1.0 in frame 103\n",
            "Frame: 103 4 416\n",
            " Removing values < 1.0 in frame 104\n",
            "Frame: 104 4 420\n",
            " Removing values < 1.0 in frame 105\n",
            "Frame: 105 4 424\n",
            " Removing values < 1.0 in frame 106\n",
            "Frame: 106 4 428\n",
            " Removing values < 1.0 in frame 107\n",
            "Frame: 107 4 432\n",
            " Removing values < 1.0 in frame 108\n",
            "Frame: 108 4 436\n",
            " Removing values < 1.0 in frame 109\n",
            "Frame: 109 4 440\n",
            " Removing values < 1.0 in frame 110\n",
            "Frame: 110 4 444\n",
            " Removing values < 1.0 in frame 111\n",
            "Frame: 111 4 448\n",
            " Removing values < 1.0 in frame 112\n",
            "Frame: 112 4 452\n",
            " Removing values < 1.0 in frame 113\n",
            "Frame: 113 4 456\n",
            " Removing values < 1.0 in frame 114\n",
            "Frame: 114 4 460\n",
            " Removing values < 1.0 in frame 115\n",
            "Frame: 115 4 464\n",
            " Removing values < 1.0 in frame 116\n",
            "Frame: 116 4 468\n",
            " Removing values < 1.0 in frame 117\n",
            "Frame: 117 4 472\n",
            " Removing values < 1.0 in frame 118\n",
            "Frame: 118 4 476\n",
            " Removing values < 1.0 in frame 119\n",
            "Frame: 119 4 480\n",
            " Removing values < 1.0 in frame 120\n",
            "Frame: 120 4 484\n",
            "\n",
            "Added 484\n",
            "   121 peak finding iterations.\n",
            "\n",
            "   0 fits reset due to Cholesky failure.\n",
            "   0 fits reset due to image margin.\n",
            "   83 fits reset due to negative value in fit function.\n",
            "   0 fits reset due to negative height.\n",
            "   18 fits reset due to non-decreasing error (LM).\n",
            "   0 fits did not converge.\n",
            "   0 fits were lost.\n",
            "   0 peaks lost to proximity filter.\n",
            "   0 peaks lost to low significance.\n",
            "   8987 fitting iterations.\n",
            "\n",
            "'3d' localization z fitting.\n",
            "   Processing frame 0\n",
            "\n",
            "Tracking.\n",
            "\n",
            "'3d' tracks z fitting.\n",
            "\n",
            "Checking z values.\n",
            " frame 0\n",
            "\n",
            "File format conversions.\n",
            " Converting to text.\n",
            "Converting localizations.\n",
            "\n",
            "Analysis complete\n"
          ],
          "name": "stdout"
        }
      ]
    },
    {
      "cell_type": "markdown",
      "metadata": {
        "id": "WkgzdQk-lPTn"
      },
      "source": [
        "### ② Plotting the test result"
      ]
    },
    {
      "cell_type": "markdown",
      "metadata": {
        "id": "7DIHhXWOdxg3"
      },
      "source": [
        "Plot Wx / Wy versus Z curves for data from the test movie.\n",
        "\n",
        "Above Calibration curves (Black Line in calibration plotting) was used to calculate Wx / Wy versus Z values."
      ]
    },
    {
      "cell_type": "code",
      "metadata": {
        "id": "sgtZpBabdxg4",
        "colab": {
          "base_uri": "https://localhost:8080/",
          "height": 414
        },
        "outputId": "20b5793e-91d9-4a61-cf7d-9d1825a48a9a"
      },
      "source": [
        "[wx, wy, z, pixel_size] = z_cal.loadWxWyZData(\"measure.hdf5\", address_z_offsets)\n",
        "\n",
        "p1 = pyplot.scatter(z, wx, color = 'r', label = 'Wx', s=1) # Curves1 (z vs wx)\n",
        "p2 = pyplot.scatter(z, wy, color = 'b', label = 'Wy', s=1) # Curves2 (z vs wy)\n",
        "legend = pyplot.legend(handles = [p1, p2], loc=1)\n",
        "legend.get_frame().set_linewidth(2)\n",
        "legend.get_frame().set_edgecolor('black')\n",
        "pyplot.xlabel(\"microns\")\n",
        "pyplot.ylabel(\"pixels\")\n",
        "pyplot.title(\"Test Result : Wx & Wy versus Z curves\")\n",
        "pyplot.show()"
      ],
      "execution_count": 16,
      "outputs": [
        {
          "output_type": "display_data",
          "data": {
            "image/png": "[encoded data removed]",
            "text/plain": [
              "<Figure size 864x432 with 1 Axes>"
            ]
          },
          "metadata": {
            "tags": [],
            "needs_background": "light"
          }
        }
      ]
    },
    {
      "cell_type": "markdown",
      "metadata": {
        "id": "EdYrtlj_lZwB"
      },
      "source": [
        "## **4) Validation**"
      ]
    },
    {
      "cell_type": "markdown",
      "metadata": {
        "id": "ZQIdabqgl-hr"
      },
      "source": [
        "### ① Validation Method 1 :"
      ]
    },
    {
      "cell_type": "markdown",
      "metadata": {
        "id": "yIMVp_ecdxg4"
      },
      "source": [
        "Plot Wx versus Wy with the z calibration curve overlaid.\n",
        "\n",
        "This can be useful for checking that your calibration curve matches your data."
      ]
    },
    {
      "cell_type": "code",
      "metadata": {
        "id": "T8ECTqbTdxg4",
        "colab": {
          "base_uri": "https://localhost:8080/",
          "height": 1000
        },
        "outputId": "1fc73f20-1342-43ad-edcb-beaaf9082b6d"
      },
      "source": [
        "import storm_analysis.sa_library.sa_h5py as saH5Py\n",
        "import numpy\n",
        "\n",
        "locs = saH5Py.loadLocalizations(\"measure.hdf5\")\n",
        "# print('category : ', locs[\"category\"])\n",
        "# print('total # of category : ', len(locs['category']))\n",
        "\n",
        "mask = (locs[\"category\"] != 9) # Mark out of z range localizations and tracks as category 9.\n",
        "wx_good = 2.0*locs[\"xsigma\"][mask]\n",
        "wy_good = 2.0*locs[\"ysigma\"][mask]\n",
        "\n",
        "mask = (locs[\"category\"] == 9) # Mark out of z range localizations and tracks as category 9.\n",
        "wx_bad = 2.0*locs[\"xsigma\"][mask]\n",
        "\n",
        "\n",
        "wy_bad = 2.0*locs[\"ysigma\"][mask]\n",
        "\n",
        "# print(\"Good fraction : {0:.3f}\".format(wx_good.size/mask.size))\n",
        "\n",
        "# Load Z calibration parameters.\n",
        "m_params = params.ParametersDAO().initFromFile(\"measure.xml\")\n",
        "\n",
        "[wx_params, wy_params] = m_params.getWidthParams()\n",
        "[min_z, max_z] = m_params.getZRange()\n",
        "\n",
        "# Z range is in microns, want nanometers.\n",
        "min_z = min_z * 1.0e+3\n",
        "max_z = max_z * 1.0e+3\n",
        "\n",
        "# Calculate fit z curve at high resolution\n",
        "\n",
        "fz_wx_1 = z_cal.zcalib4(wx_params, numpy.arange(min_z, max_z + 1, 10))/pixel_size\n",
        "fz_wy_1 = z_cal.zcalib4(wy_params, numpy.arange(min_z, max_z + 1, 10))/pixel_size\n",
        "\n",
        "# Calculate fit z curve at 100nm resolution.\n",
        "\n",
        "fz_wx_2 = z_cal.zcalib4(wx_params, numpy.arange(min_z, max_z + 1, 100))/pixel_size\n",
        "fz_wy_2 = z_cal.zcalib4(wy_params, numpy.arange(min_z, max_z + 1, 100))/pixel_size\n",
        "\n",
        "# Make figure.\n",
        "fig = pyplot.figure(figsize = (8,8))\n",
        "pyplot.scatter(wx, wy, marker = \".\")\n",
        "pyplot.scatter(fz_wx_2, fz_wy_2, marker = \"o\", s = 120, edgecolor = \"black\", facecolor = 'none', linewidths = 2)\n",
        "pyplot.plot(fz_wx_1, fz_wy_1, color = \"black\", linewidth = 2)\n",
        "pyplot.xlim(2,10)\n",
        "pyplot.ylim(2,10)\n",
        "pyplot.xlabel(\"Wx (pixels)\")\n",
        "pyplot.ylabel(\"Wy (pixels)\")\n",
        "pyplot.title(\"Validation Result including category = 9\".format(wx_good.size/mask.size))\n",
        "pyplot.show()\n",
        "\n",
        "# classified by categories ( Blue -> category != 9, Red -> category = 9)\n",
        "pyplot.figure(figsize = (8,8))\n",
        "#pyplot.scatter(wx_good, wy_good, s = 1, color = \"blue\")\n",
        "pyplot.scatter(wx_good, wy_good, s = 1, color = \"blue\")\n",
        "pyplot.scatter(wx_bad, wy_bad, s = 1, color = \"red\")\n",
        "pyplot.scatter(fz_wx_2, fz_wy_2, marker = \"o\", s = 120, edgecolor = \"black\", facecolor = 'none', linewidths = 2)\n",
        "pyplot.plot(fz_wx_1, fz_wy_1, color = \"black\", linewidth = 2)\n",
        "pyplot.xlim(2,10)\n",
        "pyplot.ylim(2,10)\n",
        "pyplot.title(\"Good fraction : {0:.3f}\".format(wx_good.size/mask.size))\n",
        "pyplot.xlabel(\"Wx (pixels)\")\n",
        "pyplot.ylabel(\"Wy (pixels)\")\n",
        "pyplot.show()"
      ],
      "execution_count": 17,
      "outputs": [
        {
          "output_type": "display_data",
          "data": {
            "image/png": "[encoded data removed]",
            "text/plain": [
              "<Figure size 576x576 with 1 Axes>"
            ]
          },
          "metadata": {
            "tags": [],
            "needs_background": "light"
          }
        },
        {
          "output_type": "display_data",
          "data": {
            "image/png": "[encoded data removed]",
            "text/plain": [
              "<Figure size 576x576 with 1 Axes>"
            ]
          },
          "metadata": {
            "tags": [],
            "needs_background": "light"
          }
        }
      ]
    },
    {
      "cell_type": "markdown",
      "metadata": {
        "id": "BbbBepXtmB40"
      },
      "source": [
        "### ② Validation Method 2 :"
      ]
    },
    {
      "cell_type": "markdown",
      "metadata": {
        "id": "EiVxExLxdxg4"
      },
      "source": [
        "Check how well we did at fitting Z."
      ]
    },
    {
      "cell_type": "code",
      "metadata": {
        "id": "h6WnIkB2dxg4",
        "colab": {
          "base_uri": "https://localhost:8080/",
          "height": 1000
        },
        "outputId": "694de769-38a9-4ed0-bfce-560427e34cfb"
      },
      "source": [
        "# Create numpy arrays with the real and the measured z values.\n",
        "measured_z = numpy.array([])\n",
        "real_z = numpy.array([])\n",
        "fnum_cnt = 30\n",
        "\n",
        "print(\"##################################################\")\n",
        "print(\"######## Let's Checking how well we did! #########\")\n",
        "print(\"##################################################\\n\")\n",
        "print(\"At every {} frames, we will see the value of measured_z & real_z\\n\".format(fnum_cnt))\n",
        "\n",
        "with saH5Py.SAH5Reader(\"measure.hdf5\") as h5:\n",
        "    for fnum, locs in h5.localizationsIterator(fields = [\"category\", \"z\"]):\n",
        "        #print(\"fnum : \", fnum)\n",
        "        #print(\"locs : \", locs)\n",
        "        mask = (locs[\"category\"] != 9)\n",
        "        z = locs[\"z\"][mask]\n",
        "        # The z fit function will place all the localizations that are too\n",
        "        # far from the calibration curve into category 9.\n",
        "        if z.size != 0:\n",
        "          measured_z = numpy.concatenate((measured_z, z))\n",
        "          real_z = numpy.concatenate((real_z, numpy.ones(z.size)*z_offsets[fnum][1]))\n",
        "          # print('z :',z)\n",
        "          # print('z.size :', z.size)\n",
        "          # print(\"z_offsets :\",z_offsets[fnum])\n",
        "          if fnum%fnum_cnt == 0:\n",
        "            print(\"\\nframe number = \", fnum)\n",
        "            print('measured_z :', measured_z)\n",
        "            print(\"real_z : \", real_z)\n",
        "        else:\n",
        "          continue\n",
        "\n",
        "# Plot\n",
        "fig = pyplot.figure(figsize = (8,8))\n",
        "ax = fig.add_subplot(1,1,1)\n",
        "ax.scatter(real_z, measured_z, s = 30)\n",
        "ax.plot([-1.0,1.0],[-1.0,1.0], color = 'black', linewidth = 2)\n",
        "ax.axis(\"equal\")\n",
        "ax.axis([-0.5, 0.5, -0.5, 0.5])\n",
        "pyplot.title('Validation Results')\n",
        "pyplot.xlabel(\"Actual Z (um)\")\n",
        "pyplot.ylabel(\"Measured Z (um)\")"
      ],
      "execution_count": 18,
      "outputs": [
        {
          "output_type": "stream",
          "text": [
            "##################################################\n",
            "######## Let's Checking how well we did! #########\n",
            "##################################################\n",
            "\n",
            "At every 30 frames, we will see the value of measured_z & real_z\n",
            "\n",
            "\n",
            "frame number =  30\n",
            "measured_z : [-1.2  -1.2  -1.2  -1.2  -1.2  -1.2  -1.2  -1.2  -1.2  -1.2  -1.2  -1.2\n",
            " -1.2  -1.17 -1.17 -1.2  -1.17 -1.18 -1.18 -1.18 -1.17 -1.18 -1.17 -1.16\n",
            " -1.17 -1.1  -1.08 -1.08 -1.08 -1.1  -1.08 -1.08 -1.08 -1.08 -1.08 -1.08\n",
            " -1.07 -1.   -1.01 -0.99 -1.   -0.99 -1.   -1.   -1.01 -0.99 -1.   -0.98\n",
            " -1.   -0.9  -0.9  -0.89 -0.91 -0.91 -0.91 -0.88 -0.91]\n",
            "real_z :  [-1.35 -1.29 -1.29 -1.29 -1.29 -1.26 -1.26 -1.26 -1.26 -1.23 -1.23 -1.23\n",
            " -1.23 -1.2  -1.2  -1.2  -1.2  -1.17 -1.17 -1.17 -1.17 -1.14 -1.14 -1.14\n",
            " -1.14 -1.11 -1.11 -1.11 -1.11 -1.08 -1.08 -1.08 -1.08 -1.05 -1.05 -1.05\n",
            " -1.05 -1.02 -1.02 -1.02 -1.02 -0.99 -0.99 -0.99 -0.99 -0.96 -0.96 -0.96\n",
            " -0.96 -0.93 -0.93 -0.93 -0.93 -0.9  -0.9  -0.9  -0.9 ]\n",
            "\n",
            "frame number =  60\n",
            "measured_z : [-1.2  -1.2  -1.2  -1.2  -1.2  -1.2  -1.2  -1.2  -1.2  -1.2  -1.2  -1.2\n",
            " -1.2  -1.17 -1.17 -1.2  -1.17 -1.18 -1.18 -1.18 -1.17 -1.18 -1.17 -1.16\n",
            " -1.17 -1.1  -1.08 -1.08 -1.08 -1.1  -1.08 -1.08 -1.08 -1.08 -1.08 -1.08\n",
            " -1.07 -1.   -1.01 -0.99 -1.   -0.99 -1.   -1.   -1.01 -0.99 -1.   -0.98\n",
            " -1.   -0.9  -0.9  -0.89 -0.91 -0.91 -0.91 -0.88 -0.91 -0.92 -0.89 -0.9\n",
            " -0.9  -0.83 -0.81 -0.82 -0.83 -0.82 -0.82 -0.82 -0.82 -0.82 -0.82 -0.81\n",
            " -0.79 -0.73 -0.72 -0.74 -0.73 -0.74 -0.73 -0.73 -0.74 -0.72 -0.71 -0.72\n",
            " -0.74 -0.63 -0.61 -0.62 -0.65 -0.64 -0.62 -0.64 -0.64 -0.64 -0.61 -0.62\n",
            " -0.61 -0.55 -0.54 -0.55 -0.55 -0.53 -0.54 -0.56 -0.53 -0.52 -0.53 -0.55\n",
            " -0.53 -0.44 -0.45 -0.44 -0.46 -0.45 -0.45 -0.44 -0.43 -0.45 -0.46 -0.44\n",
            " -0.44 -0.35 -0.37 -0.35 -0.31 -0.34 -0.36 -0.33 -0.35 -0.36 -0.33 -0.34\n",
            " -0.33 -0.26 -0.26 -0.25 -0.26 -0.27 -0.24 -0.27 -0.26 -0.24 -0.24 -0.24\n",
            " -0.25 -0.17 -0.16 -0.16 -0.16 -0.19 -0.17 -0.15 -0.15 -0.17 -0.16 -0.17\n",
            " -0.17 -0.1  -0.07 -0.1  -0.07 -0.11 -0.07 -0.11 -0.1  -0.09 -0.05 -0.07\n",
            " -0.08  0.02  0.01  0.01 -0.01 -0.01  0.    0.04  0.02]\n",
            "real_z :  [-1.35 -1.29 -1.29 -1.29 -1.29 -1.26 -1.26 -1.26 -1.26 -1.23 -1.23 -1.23\n",
            " -1.23 -1.2  -1.2  -1.2  -1.2  -1.17 -1.17 -1.17 -1.17 -1.14 -1.14 -1.14\n",
            " -1.14 -1.11 -1.11 -1.11 -1.11 -1.08 -1.08 -1.08 -1.08 -1.05 -1.05 -1.05\n",
            " -1.05 -1.02 -1.02 -1.02 -1.02 -0.99 -0.99 -0.99 -0.99 -0.96 -0.96 -0.96\n",
            " -0.96 -0.93 -0.93 -0.93 -0.93 -0.9  -0.9  -0.9  -0.9  -0.87 -0.87 -0.87\n",
            " -0.87 -0.84 -0.84 -0.84 -0.84 -0.81 -0.81 -0.81 -0.81 -0.78 -0.78 -0.78\n",
            " -0.78 -0.75 -0.75 -0.75 -0.75 -0.72 -0.72 -0.72 -0.72 -0.69 -0.69 -0.69\n",
            " -0.69 -0.66 -0.66 -0.66 -0.66 -0.63 -0.63 -0.63 -0.63 -0.6  -0.6  -0.6\n",
            " -0.6  -0.57 -0.57 -0.57 -0.57 -0.54 -0.54 -0.54 -0.54 -0.51 -0.51 -0.51\n",
            " -0.51 -0.48 -0.48 -0.48 -0.48 -0.45 -0.45 -0.45 -0.45 -0.42 -0.42 -0.42\n",
            " -0.42 -0.39 -0.39 -0.39 -0.39 -0.36 -0.36 -0.36 -0.36 -0.33 -0.33 -0.33\n",
            " -0.33 -0.3  -0.3  -0.3  -0.3  -0.27 -0.27 -0.27 -0.27 -0.24 -0.24 -0.24\n",
            " -0.24 -0.21 -0.21 -0.21 -0.21 -0.18 -0.18 -0.18 -0.18 -0.15 -0.15 -0.15\n",
            " -0.15 -0.12 -0.12 -0.12 -0.12 -0.09 -0.09 -0.09 -0.09 -0.06 -0.06 -0.06\n",
            " -0.06 -0.03 -0.03 -0.03 -0.03  0.    0.    0.    0.  ]\n"
          ],
          "name": "stdout"
        },
        {
          "output_type": "execute_result",
          "data": {
            "text/plain": [
              "Text(0, 0.5, 'Measured Z (um)')"
            ]
          },
          "metadata": {
            "tags": []
          },
          "execution_count": 18
        },
        {
          "output_type": "display_data",
          "data": {
            "image/png": "[encoded data removed]",
            "text/plain": [
              "<Figure size 576x576 with 1 Axes>"
            ]
          },
          "metadata": {
            "tags": [],
            "needs_background": "light"
          }
        }
      ]
    },
    {
      "cell_type": "markdown",
      "metadata": {
        "id": "4OugLU9kmJb8"
      },
      "source": [
        "### ③ Applying CutOff and Analyze again. & Save New_Z txt file."
      ]
    },
    {
      "cell_type": "markdown",
      "metadata": {
        "id": "bbbE_0rPdxg4"
      },
      "source": [
        "\n",
        "Change the tolerance for the distance from the calibration curve and redo the Z fit."
      ]
    },
    {
      "cell_type": "code",
      "metadata": {
        "id": "Cjp1lrzzdxg5",
        "colab": {
          "base_uri": "https://localhost:8080/"
        },
        "outputId": "d04a2671-c36a-40ac-f7d2-9241379d6a91"
      },
      "source": [
        "import shutil\n",
        "import storm_analysis.sa_utilities.fitz_c as fitz_c\n",
        "import storm_analysis.sa_utilities.std_analysis as std_ana\n",
        "\n",
        "cutoff_params = params.ParametersDAO().initFromFile(\"measure.xml\")\n",
        "\n",
        "[wx_params, wy_params] = cutoff_params.getWidthParams()\n",
        "[min_z, max_z] = cutoff_params.getZRange()\n",
        "\n",
        "# Make a copy of the .hdf5 file as this operation will change it in place.\n",
        "shutil.copyfile(\"measure.hdf5\", \"measure_copy.hdf5\")\n",
        "\n",
        "# If you want to change Cutoff coefficient, use this code line.\n",
        "  # cutoff_params.changeAttr(\"cutoff\", 0.1) \n",
        "\n",
        "print(\"Previous cutoff coeff is\", cutoff_params.getAttr(\"cutoff\"))\n",
        "cutoff_params.changeAttr(\"cutoff\", 5.0)\n",
        "print(\"Curent cutoff coeff is\", cutoff_params.getAttr(\"cutoff\"))\n",
        "\n",
        "# Re-fit z parameters.\n",
        "fitz_c.fitz(\"measure_copy.hdf5\", cutoff_params.getAttr(\"cutoff\"),\n",
        "            wx_params, wy_params, min_z, max_z, cutoff_params.getAttr(\"z_step\"))\n",
        "\n",
        "# Mark out of range peaks as category 9. The range is specified by the min_z and max_z parameters.\n",
        "std_ana.zCheck(\"measure_copy.hdf5\", cutoff_params)"
      ],
      "execution_count": 19,
      "outputs": [
        {
          "output_type": "stream",
          "text": [
            "Previous cutoff coeff is 2.0\n",
            "Curent cutoff coeff is 5.0\n",
            "   Processing frame 0\n",
            " frame 0\n"
          ],
          "name": "stdout"
        }
      ]
    },
    {
      "cell_type": "code",
      "metadata": {
        "id": "9mxHDQ6Odxg5",
        "colab": {
          "base_uri": "https://localhost:8080/",
          "height": 576
        },
        "outputId": "a9868cd8-f8d3-4fe9-8138-2f6ced358f4d"
      },
      "source": [
        "import storm_analysis.sa_library.sa_h5py as saH5Py\n",
        "import numpy\n",
        "\n",
        "\n",
        "# Create numpy arrays with the real and the measured z values.\n",
        "measured_z = numpy.array([])\n",
        "real_z = numpy.array([])\n",
        "\n",
        "with saH5Py.SAH5Reader(\"measure_copy.hdf5\") as h5:\n",
        "    for fnum, locs in h5.localizationsIterator(fields = [\"category\", \"z\"]):\n",
        "        mask = (locs[\"category\"] != 9)\n",
        "        z = locs[\"z\"][mask]\n",
        "        # The z fit function will place all the localizations that are too\n",
        "        # far from the calibration curve into category 9.\n",
        "        if z.size != 0:\n",
        "          measured_z = numpy.concatenate((measured_z, z))\n",
        "          real_z = numpy.concatenate((real_z, numpy.ones(z.size)*z_offsets[fnum][1]))\n",
        "        else:\n",
        "          continue\n",
        "  \n",
        "# Plot\n",
        "fig = pyplot.figure(figsize = (8,8))\n",
        "ax = fig.add_subplot(1,1,1)\n",
        "ax.scatter(real_z, measured_z, s = 30)\n",
        "ax.plot([-1.0,1.0],[-1.0,1.0], color = 'black', linewidth = 2)\n",
        "ax.axis(\"equal\")\n",
        "ax.axis([-0.5, 0.5, -0.5, 0.5])\n",
        "pyplot.title('Validation Results (cutoff applied)')\n",
        "pyplot.xlabel(\"Actual Z (um)\")\n",
        "pyplot.ylabel(\"Measured Z (um)\")"
      ],
      "execution_count": 20,
      "outputs": [
        {
          "output_type": "execute_result",
          "data": {
            "text/plain": [
              "Text(0, 0.5, 'Measured Z (um)')"
            ]
          },
          "metadata": {
            "tags": []
          },
          "execution_count": 20
        },
        {
          "output_type": "display_data",
          "data": {
            "image/png": "[encoded data removed]",
            "text/plain": [
              "<Figure size 576x576 with 1 Axes>"
            ]
          },
          "metadata": {
            "tags": [],
            "needs_background": "light"
          }
        }
      ]
    },
    {
      "cell_type": "markdown",
      "metadata": {
        "id": "co2FUmjb0lay"
      },
      "source": [
        "Create [cut-offed] measured_Z txt file."
      ]
    },
    {
      "cell_type": "code",
      "metadata": {
        "id": "E3rrUnY-0eKf",
        "outputId": "7e8b0a96-fdb6-4d2c-9b73-d30e4d037d24",
        "colab": {
          "base_uri": "https://localhost:8080/"
        }
      },
      "source": [
        "# Saving [cut-offed] measured_z value as txt file\n",
        "\n",
        "#float_formatter = \"{:.3f}\".format\n",
        "#numpy.set_printoptions(formatter ={'float_kind':float_formatter})\n",
        "\n",
        "valid = numpy.ones(measured_z.size)\n",
        "numpy.savetxt(\"measured_z.txt\", numpy.transpose(numpy.vstack((valid, measured_z))), fmt='%.3f')\n",
        "print(\"Saving succeeded.\")"
      ],
      "execution_count": 23,
      "outputs": [
        {
          "output_type": "stream",
          "text": [
            "Saving succeeded.\n"
          ],
          "name": "stdout"
        }
      ]
    },
    {
      "cell_type": "markdown",
      "metadata": {
        "id": "gDs5HYDIZoTT"
      },
      "source": [
        "# SPLINER_MEASURE_PSF"
      ]
    },
    {
      "cell_type": "markdown",
      "metadata": {
        "id": "BJHcS8dfZjv6"
      },
      "source": [
        "### Prerequisites"
      ]
    },
    {
      "cell_type": "markdown",
      "metadata": {
        "id": "Ml6fJ2vnZjv6"
      },
      "source": [
        "A text file containing the z-offset of each frame in the movie. This file contains two columns, the first is whether or not the data in this frame should be used (0 = No, 1 = Yes) and the second contains the z offset in microns."
      ]
    },
    {
      "cell_type": "code",
      "metadata": {
        "colab": {
          "base_uri": "https://localhost:8080/"
        },
        "id": "XUybE5kApc1Q",
        "outputId": "e79a5afd-0e65-4b46-a99c-55601f177156"
      },
      "source": [
        "# Z offsets profile\n",
        "address_z_offsets = os.path.join(data_path, \"z_offsets.txt\")\n",
        "print(\"Location of z_offsets : \", address_z_offsets)\n",
        "z_offsets = numpy.loadtxt(address_z_offsets)\n",
        "print(z_offsets)"
      ],
      "execution_count": null,
      "outputs": [
        {
          "output_type": "stream",
          "text": [
            "Location of z_offsets :  /content/gdrive/My Drive/data/20210326/z_offsets.txt\n",
            "[[ 1.   -1.8 ]\n",
            " [ 1.   -1.77]\n",
            " [ 1.   -1.74]\n",
            " [ 1.   -1.71]\n",
            " [ 1.   -1.68]\n",
            " [ 1.   -1.65]\n",
            " [ 1.   -1.62]\n",
            " [ 1.   -1.59]\n",
            " [ 1.   -1.56]\n",
            " [ 1.   -1.53]\n",
            " [ 1.   -1.5 ]\n",
            " [ 1.   -1.47]\n",
            " [ 1.   -1.44]\n",
            " [ 1.   -1.41]\n",
            " [ 1.   -1.38]\n",
            " [ 1.   -1.35]\n",
            " [ 1.   -1.32]\n",
            " [ 1.   -1.29]\n",
            " [ 1.   -1.26]\n",
            " [ 1.   -1.23]\n",
            " [ 1.   -1.2 ]\n",
            " [ 1.   -1.17]\n",
            " [ 1.   -1.14]\n",
            " [ 1.   -1.11]\n",
            " [ 1.   -1.08]\n",
            " [ 1.   -1.05]\n",
            " [ 1.   -1.02]\n",
            " [ 1.   -0.99]\n",
            " [ 1.   -0.96]\n",
            " [ 1.   -0.93]\n",
            " [ 1.   -0.9 ]\n",
            " [ 1.   -0.87]\n",
            " [ 1.   -0.84]\n",
            " [ 1.   -0.81]\n",
            " [ 1.   -0.78]\n",
            " [ 1.   -0.75]\n",
            " [ 1.   -0.72]\n",
            " [ 1.   -0.69]\n",
            " [ 1.   -0.66]\n",
            " [ 1.   -0.63]\n",
            " [ 1.   -0.6 ]\n",
            " [ 1.   -0.57]\n",
            " [ 1.   -0.54]\n",
            " [ 1.   -0.51]\n",
            " [ 1.   -0.48]\n",
            " [ 1.   -0.45]\n",
            " [ 1.   -0.42]\n",
            " [ 1.   -0.39]\n",
            " [ 1.   -0.36]\n",
            " [ 1.   -0.33]\n",
            " [ 1.   -0.3 ]\n",
            " [ 1.   -0.27]\n",
            " [ 1.   -0.24]\n",
            " [ 1.   -0.21]\n",
            " [ 1.   -0.18]\n",
            " [ 1.   -0.15]\n",
            " [ 1.   -0.12]\n",
            " [ 1.   -0.09]\n",
            " [ 1.   -0.06]\n",
            " [ 1.   -0.03]\n",
            " [ 1.    0.  ]\n",
            " [ 1.    0.03]\n",
            " [ 1.    0.06]\n",
            " [ 1.    0.09]\n",
            " [ 1.    0.12]\n",
            " [ 1.    0.15]\n",
            " [ 1.    0.18]\n",
            " [ 1.    0.21]\n",
            " [ 1.    0.24]\n",
            " [ 1.    0.27]\n",
            " [ 1.    0.3 ]\n",
            " [ 1.    0.33]\n",
            " [ 1.    0.36]\n",
            " [ 1.    0.39]\n",
            " [ 1.    0.42]\n",
            " [ 1.    0.45]\n",
            " [ 1.    0.48]\n",
            " [ 1.    0.51]\n",
            " [ 1.    0.54]\n",
            " [ 1.    0.57]\n",
            " [ 1.    0.6 ]\n",
            " [ 1.    0.63]\n",
            " [ 1.    0.66]\n",
            " [ 1.    0.69]\n",
            " [ 1.    0.72]\n",
            " [ 1.    0.75]\n",
            " [ 1.    0.78]\n",
            " [ 1.    0.81]\n",
            " [ 1.    0.84]\n",
            " [ 1.    0.87]\n",
            " [ 1.    0.9 ]\n",
            " [ 1.    0.93]\n",
            " [ 1.    0.96]\n",
            " [ 1.    0.99]\n",
            " [ 1.    1.02]\n",
            " [ 1.    1.05]\n",
            " [ 1.    1.08]\n",
            " [ 1.    1.11]\n",
            " [ 1.    1.14]\n",
            " [ 1.    1.17]\n",
            " [ 1.    1.2 ]\n",
            " [ 1.    1.23]\n",
            " [ 1.    1.26]\n",
            " [ 1.    1.29]\n",
            " [ 1.    1.32]\n",
            " [ 1.    1.35]\n",
            " [ 1.    1.38]\n",
            " [ 1.    1.41]\n",
            " [ 1.    1.44]\n",
            " [ 1.    1.47]\n",
            " [ 1.    1.5 ]\n",
            " [ 1.    1.53]\n",
            " [ 1.    1.56]\n",
            " [ 1.    1.59]\n",
            " [ 1.    1.62]\n",
            " [ 1.    1.65]\n",
            " [ 1.    1.68]\n",
            " [ 1.    1.71]\n",
            " [ 1.    1.74]\n",
            " [ 1.    1.77]\n",
            " [ 1.    1.8 ]]\n"
          ],
          "name": "stdout"
        }
      ]
    },
    {
      "cell_type": "markdown",
      "metadata": {
        "id": "J0aqOnXiZjv7"
      },
      "source": [
        "A text file containing the approximate bead locations. One way to create this is by using the `visualizer` tool in the `storm_analysis.visualizer` folder. Another alternative might be using ImageJ. Here we are just going to use generated file."
      ]
    },
    {
      "cell_type": "code",
      "metadata": {
        "colab": {
          "base_uri": "https://localhost:8080/"
        },
        "id": "daD_pSb_ptmX",
        "outputId": "728f254d-a711-4438-cf26-bb785e59ebfc"
      },
      "source": [
        "# Bead Locations\n",
        "address_bead_locs = os.path.join(data_path, \"bead_locs.txt\")\n",
        "print(\"Location of bead_locs : \", address_bead_locs)\n",
        "\n",
        "bead_locs = numpy.loadtxt(address_bead_locs)\n",
        "print(bead_locs)\n"
      ],
      "execution_count": null,
      "outputs": [
        {
          "output_type": "stream",
          "text": [
            "Location of bead_locs :  /content/gdrive/My Drive/data/20210326/bead_locs.txt\n",
            "[[ 23.  24.]\n",
            " [ 68.  24.]\n",
            " [113.  24.]\n",
            " [158.  24.]]\n"
          ],
          "name": "stdout"
        }
      ]
    },
    {
      "cell_type": "code",
      "metadata": {
        "id": "kDQqRsbZZjv7",
        "colab": {
          "base_uri": "https://localhost:8080/",
          "height": 209
        },
        "outputId": "59993646-2aee-40ff-c6a9-657412d91ae0"
      },
      "source": [
        "# Check that the specified positions align with the actual bead locations.\n",
        "#\n",
        "import storm_analysis.jupyter_examples.overlay_image as overlay_image\n",
        "overlay_image.overlayImageBeads(tif_file, address_bead_locs, 40)"
      ],
      "execution_count": null,
      "outputs": [
        {
          "output_type": "display_data",
          "data": {
            "image/png": "[encoded data removed]",
            "text/plain": [
              "<Figure size 576x576 with 1 Axes>"
            ]
          },
          "metadata": {
            "tags": [],
            "needs_background": "light"
          }
        }
      ]
    },
    {
      "cell_type": "markdown",
      "metadata": {
        "id": "SyWp1vKjZjv7"
      },
      "source": [
        "### PSF Measurement"
      ]
    },
    {
      "cell_type": "markdown",
      "metadata": {
        "id": "cl9_c2atZjv8"
      },
      "source": [
        "Now that we have the 3 files that we need we can measure the PSF. You want to use an AOI that is a bit larger then the size you plan to use when creating the spline file. \n",
        "\n",
        "Notes:\n",
        "\n",
        "* The AOI size is the 1/2 size so using 12 pixels means that the final PSF will be 24 x 24 pixels.\n",
        "* The pixel size in this simulation was 100nm\n",
        "* The simulated movie covered a Z range of +-0.6um, so we're using exactly that. For real data you might want to use a Z range that is slightly smaller than range you scanned.\n",
        "* The Z step size is 50nm, which is fine enough for most applications, assuming a high NA objective with a depth of field on the order of 1um.\n",
        "\n",
        "Also: \n",
        "\n",
        "If you think that your coverslip might not be completely flat, or that your bead locations are not sufficiently accurate then you can set the `refine` parameter to `True`. With this setting each PSF will be aligned to the average of the remaining PSF using a correlation metric. You may see some warning messages like `Warning: Desired error not necessarily achieved due to precision loss.`, it is usually safe to ignore these."
      ]
    },
    {
      "cell_type": "code",
      "metadata": {
        "id": "Vf2P7cwlZjv8",
        "colab": {
          "base_uri": "https://localhost:8080/"
        },
        "outputId": "83aa9403-19d4-4a4a-a5e7-2104dbf2b9b7"
      },
      "source": [
        "import storm_analysis.spliner.measure_psf_beads as measure_psf_beads\n",
        "\n",
        "measure_psf_beads.measurePSFBeads(tif_file, \n",
        "                                  address_z_offsets,\n",
        "                                  address_bead_locs,\n",
        "                                  \"joon-spliner_psf.psf\",\n",
        "                                  aoi_size = 14, # 12 # aoi_size - 1/2 the AOI size in pixels.\n",
        "                                  pixel_size = 0.1445, #0.1\n",
        "                                  refine = True,\n",
        "                                  z_range = 1.5, #0.6\n",
        "                                  z_step = 0.03) #0.03\n",
        "                                  "
      ],
      "execution_count": null,
      "outputs": [
        {
          "output_type": "stream",
          "text": [
            "Refining PSF alignment.\n",
            "0 0 112452.71782214133 [-0.0034196   0.00285976  0.00043804]\n",
            "0 1 110024.1707318307 [-0.00100371  0.0030761   0.00085964]\n",
            "0 2 107646.75918014326 [ 0.00647982  0.00236714 -0.00122509]\n",
            "0 3 105629.64038949035 [-0.0090614  -0.00897914  0.00106695]\n",
            "Quality score: 1.000192\n",
            "\n",
            "1 0 98999.51676939694 [-4.80196146e-04  2.01401022e-04  7.34535940e-05]\n",
            "1 1 99444.47358443936 [-0.00046557  0.00043005  0.00034766]\n",
            "1 2 99143.50805499 [ 0.00130191  0.00036681 -0.00034024]\n",
            "1 3 99397.032744735 [-0.00092995 -0.00100019  0.00013759]\n",
            "Quality score: 1.000210\n",
            "\n",
            "2 0 98999.69349572038 [-3.77839872e-04  1.54158807e-04  6.18206977e-05]\n",
            "2 1 99444.64279381395 [-0.00031086  0.00027779  0.00029111]\n",
            "2 2 99144.56929874767 [ 0.00340895  0.00098695 -0.00107945]\n",
            "2 3 99397.47145961138 [-0.0006421  -0.00080294  0.00011431]\n",
            "Quality score: 1.000234\n",
            "\n",
            "3 0 98999.97864879586 [-2.75253525e-04  1.69316660e-04  5.68833145e-05]\n",
            "3 1 99444.90123214453 [-0.00012407  0.00034227  0.00036653]\n",
            "3 2 99144.86588618348 [ 0.0009509   0.00029262 -0.00040555]\n",
            "3 3 99397.60716576038 [-4.90836049e-04 -6.32401662e-04  9.93038353e-05]\n",
            "Quality score: 1.000243\n",
            "\n",
            "z plane 0 has 4 samples\n",
            "z plane 1 has 4 samples\n",
            "z plane 2 has 4 samples\n",
            "z plane 3 has 4 samples\n",
            "z plane 4 has 4 samples\n",
            "z plane 5 has 4 samples\n",
            "z plane 6 has 4 samples\n",
            "z plane 7 has 4 samples\n",
            "z plane 8 has 4 samples\n",
            "z plane 9 has 4 samples\n",
            "z plane 10 has 4 samples\n",
            "z plane 11 has 4 samples\n",
            "z plane 12 has 4 samples\n",
            "z plane 13 has 4 samples\n",
            "z plane 14 has 4 samples\n",
            "z plane 15 has 4 samples\n",
            "z plane 16 has 4 samples\n",
            "z plane 17 has 4 samples\n",
            "z plane 18 has 4 samples\n",
            "z plane 19 has 4 samples\n",
            "z plane 20 has 4 samples\n",
            "z plane 21 has 4 samples\n",
            "z plane 22 has 4 samples\n",
            "z plane 23 has 4 samples\n",
            "z plane 24 has 4 samples\n",
            "z plane 25 has 4 samples\n",
            "z plane 26 has 4 samples\n",
            "z plane 27 has 4 samples\n",
            "z plane 28 has 4 samples\n",
            "z plane 29 has 4 samples\n",
            "z plane 30 has 4 samples\n",
            "z plane 31 has 4 samples\n",
            "z plane 32 has 4 samples\n",
            "z plane 33 has 4 samples\n",
            "z plane 34 has 4 samples\n",
            "z plane 35 has 4 samples\n",
            "z plane 36 has 4 samples\n",
            "z plane 37 has 4 samples\n",
            "z plane 38 has 4 samples\n",
            "z plane 39 has 4 samples\n",
            "z plane 40 has 4 samples\n",
            "z plane 41 has 4 samples\n",
            "z plane 42 has 4 samples\n",
            "z plane 43 has 4 samples\n",
            "z plane 44 has 4 samples\n",
            "z plane 45 has 4 samples\n",
            "z plane 46 has 4 samples\n",
            "z plane 47 has 4 samples\n",
            "z plane 48 has 4 samples\n",
            "z plane 49 has 4 samples\n",
            "z plane 50 has 4 samples\n",
            "z plane 51 has 4 samples\n",
            "z plane 52 has 4 samples\n",
            "z plane 53 has 4 samples\n",
            "z plane 54 has 4 samples\n",
            "z plane 55 has 4 samples\n",
            "z plane 56 has 4 samples\n",
            "z plane 57 has 4 samples\n",
            "z plane 58 has 4 samples\n",
            "z plane 59 has 4 samples\n",
            "z plane 60 has 4 samples\n",
            "z plane 61 has 4 samples\n",
            "z plane 62 has 4 samples\n",
            "z plane 63 has 4 samples\n",
            "z plane 64 has 4 samples\n",
            "z plane 65 has 4 samples\n",
            "z plane 66 has 4 samples\n",
            "z plane 67 has 4 samples\n",
            "z plane 68 has 4 samples\n",
            "z plane 69 has 4 samples\n",
            "z plane 70 has 4 samples\n",
            "z plane 71 has 4 samples\n",
            "z plane 72 has 4 samples\n",
            "z plane 73 has 4 samples\n",
            "z plane 74 has 4 samples\n",
            "z plane 75 has 4 samples\n",
            "z plane 76 has 4 samples\n",
            "z plane 77 has 4 samples\n",
            "z plane 78 has 4 samples\n",
            "z plane 79 has 4 samples\n",
            "z plane 80 has 4 samples\n",
            "z plane 81 has 4 samples\n",
            "z plane 82 has 4 samples\n",
            "z plane 83 has 4 samples\n",
            "z plane 84 has 4 samples\n",
            "z plane 85 has 4 samples\n",
            "z plane 86 has 4 samples\n",
            "z plane 87 has 4 samples\n",
            "z plane 88 has 4 samples\n",
            "z plane 89 has 4 samples\n",
            "z plane 90 has 4 samples\n",
            "z plane 91 has 4 samples\n",
            "z plane 92 has 4 samples\n",
            "z plane 93 has 4 samples\n",
            "z plane 94 has 4 samples\n",
            "z plane 95 has 4 samples\n",
            "z plane 96 has 4 samples\n",
            "z plane 97 has 4 samples\n",
            "z plane 98 has 4 samples\n",
            "z plane 99 has 4 samples\n",
            "z plane 100 has 4 samples\n"
          ],
          "name": "stdout"
        }
      ]
    },
    {
      "cell_type": "markdown",
      "metadata": {
        "id": "eSAmI6_9Zjv8"
      },
      "source": [
        "### Visualizing the measured PSF"
      ]
    },
    {
      "cell_type": "markdown",
      "metadata": {
        "id": "zM1u_qjcZjv8"
      },
      "source": [
        "Make some images of the measured PSF."
      ]
    },
    {
      "cell_type": "code",
      "metadata": {
        "id": "ng8PE787Zjv8",
        "colab": {
          "base_uri": "https://localhost:8080/",
          "height": 364
        },
        "outputId": "0be805b6-1060-43cb-a45c-67bcbff2cce9"
      },
      "source": [
        "import storm_analysis.jupyter_examples.psf_images as psfImages\n",
        "\n",
        "psfImages.psfImages(\"joon-spliner_psf.psf\")"
      ],
      "execution_count": null,
      "outputs": [
        {
          "output_type": "stream",
          "text": [
            "PSF shape: (101, 28, 28)\n",
            "pixel size: 0.144um\n",
            "zmin, zmax: -1500.0nm, 1500.0nm\n"
          ],
          "name": "stdout"
        },
        {
          "output_type": "display_data",
          "data": {
            "image/png": "[encoded data removed]",
            "text/plain": [
              "<Figure size 864x288 with 3 Axes>"
            ]
          },
          "metadata": {
            "tags": [],
            "needs_background": "light"
          }
        },
        {
          "output_type": "stream",
          "text": [
            "Plots are in microns\n"
          ],
          "name": "stdout"
        }
      ]
    },
    {
      "cell_type": "markdown",
      "metadata": {
        "id": "WjfnWj1DZjv9"
      },
      "source": [
        "Print some properties of the PSF."
      ]
    },
    {
      "cell_type": "code",
      "metadata": {
        "id": "t2Na2AChZjv9",
        "colab": {
          "base_uri": "https://localhost:8080/"
        },
        "outputId": "7c1e1d4d-e9bd-4216-8d82-054960857e59"
      },
      "source": [
        "import storm_analysis.spliner.print_psf as printPSF\n",
        "\n",
        "printPSF.printPSF(\"joon-spliner_psf.psf\")"
      ],
      "execution_count": null,
      "outputs": [
        {
          "output_type": "stream",
          "text": [
            "pixel_size 0.1445\n",
            "psf shape (101, 28, 28)\n",
            "type 3D\n",
            "version 2.0\n",
            "zmax 1500.0\n",
            "zmin -1500.0\n",
            "zvals [-1500.0, -1470.0, -1440.0, -1410.0, -1380.0, -1350.0, -1320.0, -1290.0, -1260.0, -1230.0, -1200.0, -1170.0, -1140.0, -1110.0, -1080.0, -1050.0, -1020.0, -990.0, -960.0, -930.0, -900.0, -870.0, -840.0, -810.0, -780.0, -750.0, -720.0, -690.0, -660.0, -630.0, -600.0, -570.0, -540.0, -510.0, -480.0, -450.0, -420.0, -390.0, -360.0, -330.0, -300.0, -270.0, -240.0, -210.0, -180.0, -150.0, -120.0, -90.0, -60.0, -30.0, 0.0, 30.0, 60.0, 90.0, 120.0, 150.0, 180.0, 210.0, 240.0, 270.0, 300.0, 330.0, 360.0, 390.0, 420.0, 450.0, 480.0, 510.0, 540.0, 570.0, 600.0, 630.0, 660.0, 690.0, 720.0, 750.0, 780.0, 810.0, 840.0, 870.0, 900.0, 930.0, 960.0, 990.0, 1020.0, 1050.0, 1080.0, 1110.0, 1140.0, 1170.0, 1200.0, 1230.0, 1260.0, 1290.0, 1320.0, 1350.0, 1380.0, 1410.0, 1440.0, 1470.0, 1500.0]\n"
          ],
          "name": "stdout"
        }
      ]
    },
    {
      "cell_type": "markdown",
      "metadata": {
        "id": "CvgxvLxEZjv9"
      },
      "source": [
        "Now you can use `storm_analysis.spliner.psf_to_spline` to convert the PSF into a spline that `Spliner` can use for SMLM movie analysis"
      ]
    },
    {
      "cell_type": "code",
      "metadata": {
        "colab": {
          "base_uri": "https://localhost:8080/"
        },
        "id": "4TQiibQZcY8A",
        "outputId": "ef09089d-29f0-46cf-cc86-91065661aca4"
      },
      "source": [
        "import storm_analysis.spliner.psf_to_spline as psfspline\n",
        "\n",
        "psfspline.psfToSpline(\"joon-spliner_psf.psf\",\"spline\",10)"
      ],
      "execution_count": null,
      "outputs": [
        {
          "output_type": "stream",
          "text": [
            "Generating 3D spline.\n",
            "Generating XY splines.\n",
            "Generating fitting spline.\n",
            "Calculating spline coefficients.\n",
            "Calculating spline values.\n",
            "  0 of 19\n",
            "  1 of 19\n",
            "  2 of 19\n",
            "  3 of 19\n",
            "  4 of 19\n",
            "  5 of 19\n",
            "  6 of 19\n",
            "  7 of 19\n",
            "  8 of 19\n",
            "  9 of 19\n",
            "  10 of 19\n",
            "  11 of 19\n",
            "  12 of 19\n",
            "  13 of 19\n",
            "  14 of 19\n",
            "  15 of 19\n",
            "  16 of 19\n",
            "  17 of 19\n",
            "  18 of 19\n",
            "  19 of 19\n",
            "  cx 0.00 19\n",
            "  cx 0.33 19\n",
            "  cx 0.67 19\n",
            "  cx 1.00 19\n",
            "  cx 1.33 19\n",
            "  cx 1.67 19\n",
            "  cx 2.00 19\n",
            "  cx 2.33 19\n",
            "  cx 2.67 19\n",
            "  cx 3.00 19\n",
            "  cx 3.33 19\n",
            "  cx 3.67 19\n",
            "  cx 4.00 19\n",
            "  cx 4.33 19\n",
            "  cx 4.67 19\n",
            "  cx 5.00 19\n",
            "  cx 5.33 19\n",
            "  cx 5.67 19\n",
            "  cx 6.00 19\n",
            "  cx 6.33 19\n",
            "  cx 6.67 19\n",
            "  cx 7.00 19\n",
            "  cx 7.33 19\n",
            "  cx 7.67 19\n",
            "  cx 8.00 19\n",
            "  cx 8.33 19\n",
            "  cx 8.67 19\n",
            "  cx 9.00 19\n",
            "  cx 9.33 19\n",
            "  cx 9.67 19\n",
            "  cx 10.00 19\n",
            "  cx 10.33 19\n",
            "  cx 10.67 19\n",
            "  cx 11.00 19\n",
            "  cx 11.33 19\n",
            "  cx 11.67 19\n",
            "  cx 12.00 19\n",
            "  cx 12.33 19\n",
            "  cx 12.67 19\n",
            "  cx 13.00 19\n",
            "  cx 13.33 19\n",
            "  cx 13.67 19\n",
            "  cx 14.00 19\n",
            "  cx 14.33 19\n",
            "  cx 14.67 19\n",
            "  cx 15.00 19\n",
            "  cx 15.33 19\n",
            "  cx 15.67 19\n",
            "  cx 16.00 19\n",
            "  cx 16.33 19\n",
            "  cx 16.67 19\n",
            "  cx 17.00 19\n",
            "  cx 17.33 19\n",
            "  cx 17.67 19\n",
            "  cx 18.00 19\n",
            "  cx 18.33 19\n",
            "  cx 18.67 19\n",
            "  cx 19.00 19\n",
            "Calculating spline coefficients.\n",
            "  0 of 18\n",
            "  1 of 18\n",
            "  2 of 18\n",
            "  3 of 18\n",
            "  4 of 18\n",
            "  5 of 18\n",
            "  6 of 18\n",
            "  7 of 18\n",
            "  8 of 18\n",
            "  9 of 18\n",
            "  10 of 18\n",
            "  11 of 18\n",
            "  12 of 18\n",
            "  13 of 18\n",
            "  14 of 18\n",
            "  15 of 18\n",
            "  16 of 18\n",
            "  17 of 18\n",
            "  18 of 18\n"
          ],
          "name": "stdout"
        }
      ]
    },
    {
      "cell_type": "markdown",
      "metadata": {
        "id": "y9DFQpBIZjv9"
      },
      "source": [
        "Reference printPSF.printPSF() results:\n",
        "\n",
        "pixel_size 0.1\n",
        "psf shape (25, 24, 24)\n",
        "type 3D\n",
        "version 2.0\n",
        "zmax 600.0\n",
        "zmin -600.0\n",
        "zvals [-600.0, -550.0, -500.0, -450.0, -400.0, -350.0, -300.0, -250.0, -200.0, -150.0, -100.0, -50.0, 0.0, 50.0, 100.0, 150.0, 200.0, 250.0, 300.0, 350.0, 400.0, 450.0, 500.0, 550.0, 600.0]"
      ]
    }
  ]
}